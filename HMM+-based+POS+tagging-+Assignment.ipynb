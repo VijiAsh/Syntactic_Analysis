{
 "cells": [
  {
   "cell_type": "markdown",
   "metadata": {},
   "source": [
    "## POS tagging using modified Viterbi"
   ]
  },
  {
   "cell_type": "markdown",
   "metadata": {},
   "source": [
    "### Data Preparation"
   ]
  },
  {
   "cell_type": "code",
   "execution_count": 1,
   "metadata": {},
   "outputs": [],
   "source": [
    "#Importing libraries\n",
    "import nltk, re, pprint\n",
    "import numpy as np\n",
    "import pandas as pd\n",
    "import requests\n",
    "import matplotlib.pyplot as plt\n",
    "import seaborn as sns\n",
    "import pprint, time\n",
    "import random\n",
    "from sklearn.model_selection import train_test_split\n",
    "from nltk.tokenize import word_tokenize"
   ]
  },
  {
   "cell_type": "code",
   "execution_count": 2,
   "metadata": {},
   "outputs": [],
   "source": [
    "# reading the Treebank tagged sentences\n",
    "nltk_data = list(nltk.corpus.treebank.tagged_sents(tagset='universal'))"
   ]
  },
  {
   "cell_type": "code",
   "execution_count": 3,
   "metadata": {},
   "outputs": [
    {
     "name": "stdout",
     "output_type": "stream",
     "text": [
      "[[('Pierre', 'NOUN'), ('Vinken', 'NOUN'), (',', '.'), ('61', 'NUM'), ('years', 'NOUN'), ('old', 'ADJ'), (',', '.'), ('will', 'VERB'), ('join', 'VERB'), ('the', 'DET'), ('board', 'NOUN'), ('as', 'ADP'), ('a', 'DET'), ('nonexecutive', 'ADJ'), ('director', 'NOUN'), ('Nov.', 'NOUN'), ('29', 'NUM'), ('.', '.')], [('Mr.', 'NOUN'), ('Vinken', 'NOUN'), ('is', 'VERB'), ('chairman', 'NOUN'), ('of', 'ADP'), ('Elsevier', 'NOUN'), ('N.V.', 'NOUN'), (',', '.'), ('the', 'DET'), ('Dutch', 'NOUN'), ('publishing', 'VERB'), ('group', 'NOUN'), ('.', '.')], [('Rudolph', 'NOUN'), ('Agnew', 'NOUN'), (',', '.'), ('55', 'NUM'), ('years', 'NOUN'), ('old', 'ADJ'), ('and', 'CONJ'), ('former', 'ADJ'), ('chairman', 'NOUN'), ('of', 'ADP'), ('Consolidated', 'NOUN'), ('Gold', 'NOUN'), ('Fields', 'NOUN'), ('PLC', 'NOUN'), (',', '.'), ('was', 'VERB'), ('named', 'VERB'), ('*-1', 'X'), ('a', 'DET'), ('nonexecutive', 'ADJ'), ('director', 'NOUN'), ('of', 'ADP'), ('this', 'DET'), ('British', 'ADJ'), ('industrial', 'ADJ'), ('conglomerate', 'NOUN'), ('.', '.')], [('A', 'DET'), ('form', 'NOUN'), ('of', 'ADP'), ('asbestos', 'NOUN'), ('once', 'ADV'), ('used', 'VERB'), ('*', 'X'), ('*', 'X'), ('to', 'PRT'), ('make', 'VERB'), ('Kent', 'NOUN'), ('cigarette', 'NOUN'), ('filters', 'NOUN'), ('has', 'VERB'), ('caused', 'VERB'), ('a', 'DET'), ('high', 'ADJ'), ('percentage', 'NOUN'), ('of', 'ADP'), ('cancer', 'NOUN'), ('deaths', 'NOUN'), ('among', 'ADP'), ('a', 'DET'), ('group', 'NOUN'), ('of', 'ADP'), ('workers', 'NOUN'), ('exposed', 'VERB'), ('*', 'X'), ('to', 'PRT'), ('it', 'PRON'), ('more', 'ADV'), ('than', 'ADP'), ('30', 'NUM'), ('years', 'NOUN'), ('ago', 'ADP'), (',', '.'), ('researchers', 'NOUN'), ('reported', 'VERB'), ('0', 'X'), ('*T*-1', 'X'), ('.', '.')], [('The', 'DET'), ('asbestos', 'NOUN'), ('fiber', 'NOUN'), (',', '.'), ('crocidolite', 'NOUN'), (',', '.'), ('is', 'VERB'), ('unusually', 'ADV'), ('resilient', 'ADJ'), ('once', 'ADP'), ('it', 'PRON'), ('enters', 'VERB'), ('the', 'DET'), ('lungs', 'NOUN'), (',', '.'), ('with', 'ADP'), ('even', 'ADV'), ('brief', 'ADJ'), ('exposures', 'NOUN'), ('to', 'PRT'), ('it', 'PRON'), ('causing', 'VERB'), ('symptoms', 'NOUN'), ('that', 'DET'), ('*T*-1', 'X'), ('show', 'VERB'), ('up', 'PRT'), ('decades', 'NOUN'), ('later', 'ADJ'), (',', '.'), ('researchers', 'NOUN'), ('said', 'VERB'), ('0', 'X'), ('*T*-2', 'X'), ('.', '.')], [('Lorillard', 'NOUN'), ('Inc.', 'NOUN'), (',', '.'), ('the', 'DET'), ('unit', 'NOUN'), ('of', 'ADP'), ('New', 'ADJ'), ('York-based', 'ADJ'), ('Loews', 'NOUN'), ('Corp.', 'NOUN'), ('that', 'DET'), ('*T*-2', 'X'), ('makes', 'VERB'), ('Kent', 'NOUN'), ('cigarettes', 'NOUN'), (',', '.'), ('stopped', 'VERB'), ('using', 'VERB'), ('crocidolite', 'NOUN'), ('in', 'ADP'), ('its', 'PRON'), ('Micronite', 'NOUN'), ('cigarette', 'NOUN'), ('filters', 'NOUN'), ('in', 'ADP'), ('1956', 'NUM'), ('.', '.')], [('Although', 'ADP'), ('preliminary', 'ADJ'), ('findings', 'NOUN'), ('were', 'VERB'), ('reported', 'VERB'), ('*-2', 'X'), ('more', 'ADV'), ('than', 'ADP'), ('a', 'DET'), ('year', 'NOUN'), ('ago', 'ADP'), (',', '.'), ('the', 'DET'), ('latest', 'ADJ'), ('results', 'NOUN'), ('appear', 'VERB'), ('in', 'ADP'), ('today', 'NOUN'), (\"'s\", 'PRT'), ('New', 'NOUN'), ('England', 'NOUN'), ('Journal', 'NOUN'), ('of', 'ADP'), ('Medicine', 'NOUN'), (',', '.'), ('a', 'DET'), ('forum', 'NOUN'), ('likely', 'ADJ'), ('*', 'X'), ('to', 'PRT'), ('bring', 'VERB'), ('new', 'ADJ'), ('attention', 'NOUN'), ('to', 'PRT'), ('the', 'DET'), ('problem', 'NOUN'), ('.', '.')], [('A', 'DET'), ('Lorillard', 'NOUN'), ('spokewoman', 'NOUN'), ('said', 'VERB'), (',', '.'), ('``', '.'), ('This', 'DET'), ('is', 'VERB'), ('an', 'DET'), ('old', 'ADJ'), ('story', 'NOUN'), ('.', '.')], [('We', 'PRON'), (\"'re\", 'VERB'), ('talking', 'VERB'), ('about', 'ADP'), ('years', 'NOUN'), ('ago', 'ADP'), ('before', 'ADP'), ('anyone', 'NOUN'), ('heard', 'VERB'), ('of', 'ADP'), ('asbestos', 'NOUN'), ('having', 'VERB'), ('any', 'DET'), ('questionable', 'ADJ'), ('properties', 'NOUN'), ('.', '.')], [('There', 'DET'), ('is', 'VERB'), ('no', 'DET'), ('asbestos', 'NOUN'), ('in', 'ADP'), ('our', 'PRON'), ('products', 'NOUN'), ('now', 'ADV'), ('.', '.'), (\"''\", '.')], [('Neither', 'DET'), ('Lorillard', 'NOUN'), ('nor', 'CONJ'), ('the', 'DET'), ('researchers', 'NOUN'), ('who', 'PRON'), ('*T*-3', 'X'), ('studied', 'VERB'), ('the', 'DET'), ('workers', 'NOUN'), ('were', 'VERB'), ('aware', 'ADJ'), ('of', 'ADP'), ('any', 'DET'), ('research', 'NOUN'), ('on', 'ADP'), ('smokers', 'NOUN'), ('of', 'ADP'), ('the', 'DET'), ('Kent', 'NOUN'), ('cigarettes', 'NOUN'), ('.', '.')], [('``', '.'), ('We', 'PRON'), ('have', 'VERB'), ('no', 'DET'), ('useful', 'ADJ'), ('information', 'NOUN'), ('on', 'ADP'), ('whether', 'ADP'), ('users', 'NOUN'), ('are', 'VERB'), ('at', 'ADP'), ('risk', 'NOUN'), (',', '.'), (\"''\", '.'), ('said', 'VERB'), ('*T*-1', 'X'), ('James', 'NOUN'), ('A.', 'NOUN'), ('Talcott', 'NOUN'), ('of', 'ADP'), ('Boston', 'NOUN'), (\"'s\", 'PRT'), ('Dana-Farber', 'NOUN'), ('Cancer', 'NOUN'), ('Institute', 'NOUN'), ('.', '.')], [('Dr.', 'NOUN'), ('Talcott', 'NOUN'), ('led', 'VERB'), ('a', 'DET'), ('team', 'NOUN'), ('of', 'ADP'), ('researchers', 'NOUN'), ('from', 'ADP'), ('the', 'DET'), ('National', 'NOUN'), ('Cancer', 'NOUN'), ('Institute', 'NOUN'), ('and', 'CONJ'), ('the', 'DET'), ('medical', 'ADJ'), ('schools', 'NOUN'), ('of', 'ADP'), ('Harvard', 'NOUN'), ('University', 'NOUN'), ('and', 'CONJ'), ('Boston', 'NOUN'), ('University', 'NOUN'), ('.', '.')], [('The', 'DET'), ('Lorillard', 'NOUN'), ('spokeswoman', 'NOUN'), ('said', 'VERB'), ('0', 'X'), ('asbestos', 'NOUN'), ('was', 'VERB'), ('used', 'VERB'), ('*-1', 'X'), ('in', 'ADP'), ('``', '.'), ('very', 'ADV'), ('modest', 'ADJ'), ('amounts', 'NOUN'), (\"''\", '.'), ('in', 'ADP'), ('*', 'X'), ('making', 'VERB'), ('paper', 'NOUN'), ('for', 'ADP'), ('the', 'DET'), ('filters', 'NOUN'), ('in', 'ADP'), ('the', 'DET'), ('early', 'ADJ'), ('1950s', 'NUM'), ('and', 'CONJ'), ('replaced', 'VERB'), ('*-1', 'X'), ('with', 'ADP'), ('a', 'DET'), ('different', 'ADJ'), ('type', 'NOUN'), ('of', 'ADP'), ('filter', 'NOUN'), ('in', 'ADP'), ('1956', 'NUM'), ('.', '.')], [('From', 'ADP'), ('1953', 'NUM'), ('to', 'PRT'), ('1955', 'NUM'), (',', '.'), ('9.8', 'NUM'), ('billion', 'NUM'), ('Kent', 'NOUN'), ('cigarettes', 'NOUN'), ('with', 'ADP'), ('the', 'DET'), ('filters', 'NOUN'), ('were', 'VERB'), ('sold', 'VERB'), ('*-3', 'X'), (',', '.'), ('the', 'DET'), ('company', 'NOUN'), ('said', 'VERB'), ('0', 'X'), ('*T*-1', 'X'), ('.', '.')], [('Among', 'ADP'), ('33', 'NUM'), ('men', 'NOUN'), ('who', 'PRON'), ('*T*-4', 'X'), ('worked', 'VERB'), ('closely', 'ADV'), ('with', 'ADP'), ('the', 'DET'), ('substance', 'NOUN'), (',', '.'), ('28', 'NUM'), ('*ICH*-1', 'X'), ('have', 'VERB'), ('died', 'VERB'), ('--', '.'), ('more', 'ADJ'), ('than', 'ADP'), ('three', 'NUM'), ('times', 'NOUN'), ('the', 'DET'), ('expected', 'VERB'), ('number', 'NOUN'), ('.', '.')], [('Four', 'NUM'), ('of', 'ADP'), ('the', 'DET'), ('five', 'NUM'), ('surviving', 'VERB'), ('workers', 'NOUN'), ('have', 'VERB'), ('asbestos-related', 'ADJ'), ('diseases', 'NOUN'), (',', '.'), ('including', 'VERB'), ('three', 'NUM'), ('with', 'ADP'), ('recently', 'ADV'), ('diagnosed', 'VERB'), ('cancer', 'NOUN'), ('.', '.')], [('The', 'DET'), ('total', 'NOUN'), ('of', 'ADP'), ('18', 'NUM'), ('deaths', 'NOUN'), ('from', 'ADP'), ('malignant', 'ADJ'), ('mesothelioma', 'NOUN'), (',', '.'), ('lung', 'NOUN'), ('cancer', 'NOUN'), ('and', 'CONJ'), ('asbestosis', 'NOUN'), ('was', 'VERB'), ('far', 'ADV'), ('higher', 'ADJ'), ('than', 'ADP'), ('*', 'X'), ('expected', 'VERB'), ('*?*', 'X'), (',', '.'), ('the', 'DET'), ('researchers', 'NOUN'), ('said', 'VERB'), ('0', 'X'), ('*T*-1', 'X'), ('.', '.')], [('``', '.'), ('The', 'DET'), ('morbidity', 'NOUN'), ('rate', 'NOUN'), ('is', 'VERB'), ('a', 'DET'), ('striking', 'ADJ'), ('finding', 'NOUN'), ('among', 'ADP'), ('those', 'DET'), ('of', 'ADP'), ('us', 'PRON'), ('who', 'PRON'), ('*T*-5', 'X'), ('study', 'VERB'), ('asbestos-related', 'ADJ'), ('diseases', 'NOUN'), (',', '.'), (\"''\", '.'), ('said', 'VERB'), ('*T*-1', 'X'), ('Dr.', 'NOUN'), ('Talcott', 'NOUN'), ('.', '.')], [('The', 'DET'), ('percentage', 'NOUN'), ('of', 'ADP'), ('lung', 'NOUN'), ('cancer', 'NOUN'), ('deaths', 'NOUN'), ('among', 'ADP'), ('the', 'DET'), ('workers', 'NOUN'), ('at', 'ADP'), ('the', 'DET'), ('West', 'NOUN'), ('Groton', 'NOUN'), (',', '.'), ('Mass.', 'NOUN'), (',', '.'), ('paper', 'NOUN'), ('factory', 'NOUN'), ('appears', 'VERB'), ('*-1', 'X'), ('to', 'PRT'), ('be', 'VERB'), ('the', 'DET'), ('highest', 'ADJ'), ('for', 'ADP'), ('any', 'DET'), ('asbestos', 'NOUN'), ('workers', 'NOUN'), ('studied', 'VERB'), ('*', 'X'), ('in', 'ADP'), ('Western', 'ADJ'), ('industrialized', 'VERB'), ('countries', 'NOUN'), (',', '.'), ('he', 'PRON'), ('said', 'VERB'), ('0', 'X'), ('*T*-2', 'X'), ('.', '.')], [('The', 'DET'), ('plant', 'NOUN'), (',', '.'), ('which', 'DET'), ('*T*-1', 'X'), ('is', 'VERB'), ('owned', 'VERB'), ('*-4', 'X'), ('by', 'ADP'), ('Hollingsworth', 'NOUN'), ('&', 'CONJ'), ('Vose', 'NOUN'), ('Co.', 'NOUN'), (',', '.'), ('was', 'VERB'), ('under', 'ADP'), ('contract', 'NOUN'), ('*ICH*-2', 'X'), ('with', 'ADP'), ('Lorillard', 'NOUN'), ('*', 'X'), ('to', 'PRT'), ('make', 'VERB'), ('the', 'DET'), ('cigarette', 'NOUN'), ('filters', 'NOUN'), ('.', '.')], [('The', 'DET'), ('finding', 'NOUN'), ('probably', 'ADV'), ('will', 'VERB'), ('support', 'VERB'), ('those', 'DET'), ('who', 'PRON'), ('*T*-6', 'X'), ('argue', 'VERB'), ('that', 'ADP'), ('the', 'DET'), ('U.S.', 'NOUN'), ('should', 'VERB'), ('regulate', 'VERB'), ('the', 'DET'), ('class', 'NOUN'), ('of', 'ADP'), ('asbestos', 'NOUN'), ('including', 'VERB'), ('crocidolite', 'NOUN'), ('more', 'ADV'), ('stringently', 'ADV'), ('than', 'ADP'), ('the', 'DET'), ('common', 'ADJ'), ('kind', 'NOUN'), ('of', 'ADP'), ('asbestos', 'NOUN'), (',', '.'), ('chrysotile', 'NOUN'), (',', '.'), ('found', 'VERB'), ('*', 'X'), ('in', 'ADP'), ('most', 'ADJ'), ('schools', 'NOUN'), ('and', 'CONJ'), ('other', 'ADJ'), ('buildings', 'NOUN'), (',', '.'), ('Dr.', 'NOUN'), ('Talcott', 'NOUN'), ('said', 'VERB'), ('0', 'X'), ('*T*-1', 'X'), ('.', '.')], [('The', 'DET'), ('U.S.', 'NOUN'), ('is', 'VERB'), ('one', 'NUM'), ('of', 'ADP'), ('the', 'DET'), ('few', 'ADJ'), ('industrialized', 'VERB'), ('nations', 'NOUN'), ('that', 'DET'), ('*T*-7', 'X'), ('does', 'VERB'), (\"n't\", 'ADV'), ('have', 'VERB'), ('a', 'DET'), ('higher', 'ADJ'), ('standard', 'NOUN'), ('of', 'ADP'), ('regulation', 'NOUN'), ('for', 'ADP'), ('the', 'DET'), ('smooth', 'ADJ'), (',', '.'), ('needle-like', 'ADJ'), ('fibers', 'NOUN'), ('such', 'ADJ'), ('as', 'ADP'), ('crocidolite', 'NOUN'), ('that', 'DET'), ('*T*-1', 'X'), ('are', 'VERB'), ('classified', 'VERB'), ('*-5', 'X'), ('as', 'ADP'), ('amphobiles', 'NOUN'), (',', '.'), ('according', 'VERB'), ('to', 'PRT'), ('Brooke', 'NOUN'), ('T.', 'NOUN'), ('Mossman', 'NOUN'), (',', '.'), ('a', 'DET'), ('professor', 'NOUN'), ('of', 'ADP'), ('pathlogy', 'NOUN'), ('at', 'ADP'), ('the', 'DET'), ('University', 'NOUN'), ('of', 'ADP'), ('Vermont', 'NOUN'), ('College', 'NOUN'), ('of', 'ADP'), ('Medicine', 'NOUN'), ('.', '.')], [('More', 'ADV'), ('common', 'ADJ'), ('chrysotile', 'NOUN'), ('fibers', 'NOUN'), ('are', 'VERB'), ('curly', 'ADJ'), ('and', 'CONJ'), ('are', 'VERB'), ('more', 'ADV'), ('easily', 'ADV'), ('rejected', 'VERB'), ('*-1', 'X'), ('by', 'ADP'), ('the', 'DET'), ('body', 'NOUN'), (',', '.'), ('Dr.', 'NOUN'), ('Mossman', 'NOUN'), ('explained', 'VERB'), ('0', 'X'), ('*T*-2', 'X'), ('.', '.')], [('In', 'ADP'), ('July', 'NOUN'), (',', '.'), ('the', 'DET'), ('Environmental', 'NOUN'), ('Protection', 'NOUN'), ('Agency', 'NOUN'), ('imposed', 'VERB'), ('a', 'DET'), ('gradual', 'ADJ'), ('ban', 'NOUN'), ('on', 'ADP'), ('virtually', 'ADV'), ('all', 'DET'), ('uses', 'NOUN'), ('of', 'ADP'), ('asbestos', 'NOUN'), ('.', '.')], [('By', 'ADP'), ('1997', 'NUM'), (',', '.'), ('almost', 'ADV'), ('all', 'DET'), ('remaining', 'VERB'), ('uses', 'NOUN'), ('of', 'ADP'), ('cancer-causing', 'ADJ'), ('asbestos', 'NOUN'), ('will', 'VERB'), ('be', 'VERB'), ('outlawed', 'VERB'), ('*-6', 'X'), ('.', '.')], [('About', 'ADP'), ('160', 'NUM'), ('workers', 'NOUN'), ('at', 'ADP'), ('a', 'DET'), ('factory', 'NOUN'), ('that', 'DET'), ('*T*-8', 'X'), ('made', 'VERB'), ('paper', 'NOUN'), ('for', 'ADP'), ('the', 'DET'), ('Kent', 'NOUN'), ('filters', 'NOUN'), ('were', 'VERB'), ('exposed', 'VERB'), ('*-7', 'X'), ('to', 'PRT'), ('asbestos', 'NOUN'), ('in', 'ADP'), ('the', 'DET'), ('1950s', 'NUM'), ('.', '.')], [('Areas', 'NOUN'), ('of', 'ADP'), ('the', 'DET'), ('factory', 'NOUN'), ('*ICH*-2', 'X'), ('were', 'VERB'), ('particularly', 'ADV'), ('dusty', 'ADJ'), ('where', 'ADV'), ('the', 'DET'), ('crocidolite', 'NOUN'), ('was', 'VERB'), ('used', 'VERB'), ('*-8', 'X'), ('*T*-1', 'X'), ('.', '.')], [('Workers', 'NOUN'), ('dumped', 'VERB'), ('large', 'ADJ'), ('burlap', 'NOUN'), ('sacks', 'NOUN'), ('of', 'ADP'), ('the', 'DET'), ('imported', 'VERB'), ('material', 'NOUN'), ('into', 'ADP'), ('a', 'DET'), ('huge', 'ADJ'), ('bin', 'NOUN'), (',', '.'), ('poured', 'VERB'), ('in', 'PRT'), ('cotton', 'NOUN'), ('and', 'CONJ'), ('acetate', 'NOUN'), ('fibers', 'NOUN'), ('and', 'CONJ'), ('mechanically', 'ADV'), ('mixed', 'VERB'), ('the', 'DET'), ('dry', 'ADJ'), ('fibers', 'NOUN'), ('in', 'ADP'), ('a', 'DET'), ('process', 'NOUN'), ('used', 'VERB'), ('*', 'X'), ('*', 'X'), ('to', 'PRT'), ('make', 'VERB'), ('filters', 'NOUN'), ('.', '.')], [('Workers', 'NOUN'), ('described', 'VERB'), ('``', '.'), ('clouds', 'NOUN'), ('of', 'ADP'), ('blue', 'ADJ'), ('dust', 'NOUN'), (\"''\", '.'), ('that', 'DET'), ('*T*-1', 'X'), ('hung', 'VERB'), ('over', 'ADP'), ('parts', 'NOUN'), ('of', 'ADP'), ('the', 'DET'), ('factory', 'NOUN'), (',', '.'), ('even', 'ADV'), ('though', 'ADP'), ('exhaust', 'NOUN'), ('fans', 'NOUN'), ('ventilated', 'VERB'), ('the', 'DET'), ('area', 'NOUN'), ('.', '.')], [('``', '.'), ('There', 'DET'), (\"'s\", 'VERB'), ('no', 'DET'), ('question', 'NOUN'), ('that', 'ADP'), ('some', 'DET'), ('of', 'ADP'), ('those', 'DET'), ('workers', 'NOUN'), ('and', 'CONJ'), ('managers', 'NOUN'), ('contracted', 'VERB'), ('asbestos-related', 'ADJ'), ('diseases', 'NOUN'), (',', '.'), (\"''\", '.'), ('said', 'VERB'), ('*T*-1', 'X'), ('Darrell', 'NOUN'), ('Phillips', 'NOUN'), (',', '.'), ('vice', 'NOUN'), ('president', 'NOUN'), ('of', 'ADP'), ('human', 'ADJ'), ('resources', 'NOUN'), ('for', 'ADP'), ('Hollingsworth', 'NOUN'), ('&', 'CONJ'), ('Vose', 'NOUN'), ('.', '.')], [('``', '.'), ('But', 'CONJ'), ('you', 'PRON'), ('have', 'VERB'), ('*-1', 'X'), ('to', 'PRT'), ('recognize', 'VERB'), ('that', 'ADP'), ('these', 'DET'), ('events', 'NOUN'), ('took', 'VERB'), ('place', 'NOUN'), ('35', 'NUM'), ('years', 'NOUN'), ('ago', 'ADP'), ('.', '.')], [('It', 'PRON'), ('has', 'VERB'), ('no', 'DET'), ('bearing', 'NOUN'), ('on', 'ADP'), ('our', 'PRON'), ('work', 'NOUN'), ('force', 'NOUN'), ('today', 'NOUN'), ('.', '.')], [('Yields', 'NOUN'), ('on', 'ADP'), ('money-market', 'ADJ'), ('mutual', 'ADJ'), ('funds', 'NOUN'), ('continued', 'VERB'), ('*-1', 'X'), ('to', 'PRT'), ('slide', 'VERB'), (',', '.'), ('amid', 'ADP'), ('signs', 'NOUN'), ('that', 'ADP'), ('portfolio', 'NOUN'), ('managers', 'NOUN'), ('expect', 'VERB'), ('further', 'ADJ'), ('declines', 'NOUN'), ('in', 'ADP'), ('interest', 'NOUN'), ('rates', 'NOUN'), ('.', '.')], [('The', 'DET'), ('average', 'ADJ'), ('seven-day', 'ADJ'), ('compound', 'NOUN'), ('yield', 'NOUN'), ('of', 'ADP'), ('the', 'DET'), ('400', 'NUM'), ('taxable', 'ADJ'), ('funds', 'NOUN'), ('tracked', 'VERB'), ('*', 'X'), ('by', 'ADP'), ('IBC', 'NOUN'), (\"'s\", 'PRT'), ('Money', 'NOUN'), ('Fund', 'NOUN'), ('Report', 'NOUN'), ('eased', 'VERB'), ('a', 'DET'), ('fraction', 'NOUN'), ('of', 'ADP'), ('a', 'DET'), ('percentage', 'NOUN'), ('point', 'NOUN'), ('to', 'PRT'), ('8.45', 'NUM'), ('%', 'NOUN'), ('from', 'ADP'), ('8.47', 'NUM'), ('%', 'NOUN'), ('for', 'ADP'), ('the', 'DET'), ('week', 'NOUN'), ('ended', 'VERB'), ('Tuesday', 'NOUN'), ('.', '.')], [('Compound', 'NOUN'), ('yields', 'NOUN'), ('assume', 'VERB'), ('reinvestment', 'NOUN'), ('of', 'ADP'), ('dividends', 'NOUN'), ('and', 'CONJ'), ('that', 'ADP'), ('the', 'DET'), ('current', 'ADJ'), ('yield', 'NOUN'), ('continues', 'VERB'), ('for', 'ADP'), ('a', 'DET'), ('year', 'NOUN'), ('.', '.')], [('Average', 'ADJ'), ('maturity', 'NOUN'), ('of', 'ADP'), ('the', 'DET'), ('funds', 'NOUN'), (\"'\", 'PRT'), ('investments', 'NOUN'), ('lengthened', 'VERB'), ('by', 'ADP'), ('a', 'DET'), ('day', 'NOUN'), ('to', 'PRT'), ('41', 'NUM'), ('days', 'NOUN'), (',', '.'), ('the', 'DET'), ('longest', 'ADJ'), ('since', 'ADP'), ('early', 'ADJ'), ('August', 'NOUN'), (',', '.'), ('according', 'VERB'), ('to', 'PRT'), ('Donoghue', 'NOUN'), (\"'s\", 'PRT'), ('.', '.')], [('Longer', 'ADJ'), ('maturities', 'NOUN'), ('are', 'VERB'), ('thought', 'VERB'), ('*-1', 'X'), ('to', 'PRT'), ('indicate', 'VERB'), ('declining', 'VERB'), ('interest', 'NOUN'), ('rates', 'NOUN'), ('because', 'ADP'), ('they', 'PRON'), ('permit', 'VERB'), ('portfolio', 'NOUN'), ('managers', 'NOUN'), ('to', 'PRT'), ('retain', 'VERB'), ('relatively', 'ADV'), ('higher', 'ADJ'), ('rates', 'NOUN'), ('for', 'ADP'), ('a', 'DET'), ('longer', 'ADJ'), ('period', 'NOUN'), ('.', '.')], [('Shorter', 'ADJ'), ('maturities', 'NOUN'), ('are', 'VERB'), ('considered', 'VERB'), ('*-9', 'X'), ('a', 'DET'), ('sign', 'NOUN'), ('of', 'ADP'), ('rising', 'VERB'), ('rates', 'NOUN'), ('because', 'ADP'), ('portfolio', 'NOUN'), ('managers', 'NOUN'), ('can', 'VERB'), ('capture', 'VERB'), ('higher', 'ADJ'), ('rates', 'NOUN'), ('sooner', 'ADV'), ('.', '.')], [('The', 'DET'), ('average', 'ADJ'), ('maturity', 'NOUN'), ('for', 'ADP'), ('funds', 'NOUN'), ('open', 'ADJ'), ('only', 'ADV'), ('to', 'PRT'), ('institutions', 'NOUN'), (',', '.'), ('considered', 'VERB'), ('by', 'ADP'), ('some', 'DET'), ('*', 'X'), ('to', 'PRT'), ('be', 'VERB'), ('a', 'DET'), ('stronger', 'ADJ'), ('indicator', 'NOUN'), ('because', 'ADP'), ('those', 'DET'), ('managers', 'NOUN'), ('watch', 'VERB'), ('the', 'DET'), ('market', 'NOUN'), ('closely', 'ADV'), (',', '.'), ('reached', 'VERB'), ('a', 'DET'), ('high', 'ADJ'), ('point', 'NOUN'), ('for', 'ADP'), ('the', 'DET'), ('year', 'NOUN'), ('--', '.'), ('33', 'NUM'), ('days', 'NOUN'), ('.', '.')]]\n"
     ]
    }
   ],
   "source": [
    "print(nltk_data[:40])"
   ]
  },
  {
   "cell_type": "code",
   "execution_count": 4,
   "metadata": {},
   "outputs": [
    {
     "name": "stdout",
     "output_type": "stream",
     "text": [
      "3718\n",
      "196\n"
     ]
    }
   ],
   "source": [
    "# Splitting into train and test\n",
    "import random\n",
    "random.seed(1234)\n",
    "train_set, test_set = train_test_split(nltk_data,test_size=0.05)\n",
    "\n",
    "print(len(train_set))\n",
    "print(len(test_set))\n"
   ]
  },
  {
   "cell_type": "code",
   "execution_count": 5,
   "metadata": {},
   "outputs": [
    {
     "name": "stdout",
     "output_type": "stream",
     "text": [
      "[[('The', 'DET'), ('Department', 'NOUN'), ('of', 'ADP'), ('Health', 'NOUN'), ('and', 'CONJ'), ('Human', 'NOUN'), ('Services', 'NOUN'), ('plans', 'VERB'), ('*-1', 'X'), ('to', 'PRT'), ('extend', 'VERB'), ('its', 'PRON'), ('moratorium', 'NOUN'), ('on', 'ADP'), ('federal', 'ADJ'), ('funding', 'NOUN'), ('of', 'ADP'), ('research', 'NOUN'), ('involving', 'VERB'), ('fetal-tissue', 'ADJ'), ('transplants', 'NOUN'), ('.', '.')], [('Olympia', 'NOUN'), ('Broadcasting', 'NOUN'), ('Corp.', 'NOUN'), ('said', 'VERB'), ('0', 'X'), ('it', 'PRON'), ('did', 'VERB'), (\"n't\", 'ADV'), ('make', 'VERB'), ('a', 'DET'), ('$', '.'), ('1.64', 'NUM'), ('million', 'NUM'), ('*U*', 'X'), ('semiannual', 'ADJ'), ('interest', 'NOUN'), ('payment', 'NOUN'), ('due', 'ADJ'), ('yesterday', 'NOUN'), ('on', 'ADP'), ('$', '.'), ('23.4', 'NUM'), ('million', 'NUM'), ('*U*', 'X'), ('of', 'ADP'), ('senior', 'ADJ'), ('subordinated', 'VERB'), ('debentures', 'NOUN'), ('.', '.')], [('In', 'ADP'), ('part', 'NOUN'), (',', '.'), ('prices', 'NOUN'), ('reflect', 'VERB'), ('development', 'NOUN'), ('of', 'ADP'), ('a', 'DET'), ('market', 'NOUN'), ('structure', 'NOUN'), ('based', 'VERB'), ('*', 'X'), ('on', 'ADP'), ('such', 'ADJ'), ('variables', 'NOUN'), ('as', 'ADP'), ('the', 'DET'), ('number', 'NOUN'), ('of', 'ADP'), ('prints', 'NOUN'), ('.', '.')], [('-LRB-', '.'), ('It', 'PRON'), ('is', 'VERB'), (',', '.'), ('of', 'ADP'), ('course', 'NOUN'), (',', '.'), ('printed', 'VERB'), ('*-1', 'X'), ('on', 'ADP'), ('recycled', 'VERB'), ('paper', 'NOUN'), ('.', '.'), ('-RRB-', '.')], [('The', 'DET'), ('worst', 'ADJ'), ('crop', 'NOUN'), ('damage', 'NOUN'), ('occurred', 'VERB'), ('in', 'ADP'), ('the', 'DET'), ('Midwestern', 'NOUN'), ('Corn', 'NOUN'), ('Belt', 'NOUN'), ('and', 'CONJ'), ('the', 'DET'), ('northern', 'ADJ'), ('Great', 'NOUN'), ('Plains', 'NOUN'), ('.', '.')], [('It', 'PRON'), ('*EXP*-3', 'X'), (\"'s\", 'VERB'), ('probably', 'ADV'), ('true', 'ADJ'), ('that', 'ADP'), ('many', 'ADJ'), ('salarymen', 'NOUN'), ('put', 'VERB'), ('in', 'PRT'), ('unproductive', 'ADJ'), ('overtime', 'NOUN'), ('just', 'ADV'), ('for', 'ADP'), ('the', 'DET'), ('sake', 'NOUN'), ('of', 'ADP'), ('solidarity', 'NOUN'), (',', '.'), ('that', 'ADP'), ('the', 'DET'), ('system', 'NOUN'), ('is', 'VERB'), ('so', 'ADV'), ('hierarchical', 'ADJ'), ('that', 'ADP'), ('only', 'ADV'), ('the', 'DET'), ('assistant', 'ADJ'), ('manager', 'NOUN'), ('can', 'VERB'), ('talk', 'VERB'), ('to', 'PRT'), ('the', 'DET'), ('manager', 'NOUN'), ('and', 'CONJ'), ('the', 'DET'), ('manager', 'NOUN'), ('to', 'PRT'), ('the', 'DET'), ('general', 'ADJ'), ('manager', 'NOUN'), (',', '.'), ('and', 'CONJ'), ('that', 'ADP'), ('Sony', 'NOUN'), ('was', 'VERB'), ('chary', 'ADJ'), ('of', 'ADP'), ('*-4', 'X'), ('letting', 'VERB'), ('a', 'DET'), ('young', 'ADJ'), (',', '.'), ('short-term', 'ADJ'), ('American', 'ADJ'), ('employee', 'NOUN'), ('take', 'VERB'), ('on', 'PRT'), ('any', 'DET'), ('responsibility', 'NOUN'), ('.', '.')], [('Mrs.', 'NOUN'), ('Yeargin', 'NOUN'), ('admits', 'VERB'), ('0', 'X'), ('she', 'PRON'), ('made', 'VERB'), ('a', 'DET'), ('big', 'ADJ'), ('mistake', 'NOUN'), ('but', 'CONJ'), ('insists', 'VERB'), ('0', 'X'), ('her', 'PRON'), ('motives', 'NOUN'), ('were', 'VERB'), ('correct', 'ADJ'), ('.', '.')], [('The', 'DET'), ('following', 'VERB'), ('issues', 'NOUN'), ('were', 'VERB'), ('recently', 'ADV'), ('filed', 'VERB'), ('*-1', 'X'), ('with', 'ADP'), ('the', 'DET'), ('Securities', 'NOUN'), ('and', 'CONJ'), ('Exchange', 'NOUN'), ('Commission', 'NOUN'), (':', '.')], [('The', 'DET'), ('minority', 'NOUN'), ('argument', 'NOUN'), (',', '.'), ('meanwhile', 'ADV'), (',', '.'), ('is', 'VERB'), ('that', 'ADP'), ('businesses', 'NOUN'), ('have', 'VERB'), ('the', 'DET'), ('financial', 'ADJ'), ('wherewithal', 'ADJ'), ('*ICH*-2', 'X'), ('this', 'DET'), ('time', 'NOUN'), ('around', 'PRT'), ('0', 'X'), ('*', 'X'), ('to', 'PRT'), ('declare', 'VERB'), ('sharply', 'ADV'), ('higher', 'ADJ'), ('dividends', 'NOUN'), ('*T*-1', 'X'), ('even', 'ADV'), ('if', 'ADP'), ('their', 'PRON'), ('earnings', 'NOUN'), ('weaken', 'VERB'), ('.', '.')], [('Japan', 'NOUN'), (\"'s\", 'PRT'), ('commitment', 'NOUN'), ('in', 'ADP'), ('Southeast', 'NOUN'), ('Asia', 'NOUN'), ('also', 'ADV'), ('includes', 'VERB'), ('steep', 'ADJ'), ('increases', 'NOUN'), ('in', 'ADP'), ('foreign', 'ADJ'), ('assistance', 'NOUN'), ('and', 'CONJ'), ('trade', 'NOUN'), ('.', '.')], [('B.A.T', 'NOUN'), ('Industries', 'NOUN'), (',', '.'), ('which', 'DET'), ('*T*-2', 'X'), ('is', 'VERB'), ('being', 'VERB'), ('pursued', 'VERB'), ('*-1', 'X'), ('by', 'ADP'), ('Sir', 'NOUN'), ('James', 'NOUN'), ('Goldsmith', 'NOUN'), (\"'s\", 'PRT'), ('Hoylake', 'NOUN'), ('Investments', 'NOUN'), (',', '.'), ('rose', 'VERB'), ('9', 'NUM'), ('to', 'PRT'), ('753', 'NUM'), ('on', 'ADP'), ('speculation', 'NOUN'), ('that', 'ADP'), ('Hoylake', 'NOUN'), ('will', 'VERB'), ('sweeten', 'VERB'), ('its', 'PRON'), ('bid', 'NOUN'), (',', '.'), ('dealers', 'NOUN'), ('said', 'VERB'), ('0', 'X'), ('*T*-3', 'X'), ('.', '.')], [('In', 'ADP'), ('his', 'PRON'), ('lawsuit', 'NOUN'), (',', '.'), ('Mr.', 'NOUN'), ('Trudeau', 'NOUN'), ('says', 'VERB'), ('0', 'X'), ('the', 'DET'), ('strike', 'NOUN'), ('illegally', 'ADV'), ('included', 'VERB'), ('Darkhorse', 'NOUN'), (',', '.'), ('and', 'CONJ'), ('the', 'DET'), ('cartoonist', 'NOUN'), ('refused', 'VERB'), ('*-1', 'X'), ('to', 'PRT'), ('honor', 'VERB'), ('the', 'DET'), ('strike', 'NOUN'), ('against', 'ADP'), ('the', 'DET'), ('company', 'NOUN'), ('.', '.')], [('Manufacturers', 'NOUN'), (\"'\", 'PRT'), ('backlogs', 'NOUN'), ('of', 'ADP'), ('unfilled', 'ADJ'), ('orders', 'NOUN'), ('rose', 'VERB'), ('0.5', 'NUM'), ('%', 'NOUN'), ('in', 'ADP'), ('September', 'NOUN'), ('to', 'PRT'), ('$', '.'), ('497.34', 'NUM'), ('billion', 'NUM'), ('*U*', 'X'), (',', '.'), ('*-3', 'X'), ('helped', 'VERB'), ('*-2', 'X'), ('by', 'ADP'), ('strength', 'NOUN'), ('in', 'ADP'), ('the', 'DET'), ('defense', 'NOUN'), ('capital', 'NOUN'), ('goods', 'NOUN'), ('sector', 'NOUN'), ('.', '.')], [('The', 'DET'), ('plan', 'NOUN'), ('calls', 'VERB'), ('for', 'ADP'), ('*', 'X'), ('closing', 'VERB'), ('at', 'ADP'), ('least', 'ADJ'), ('nine', 'NUM'), ('plants', 'NOUN'), ('and', 'CONJ'), ('eliminating', 'VERB'), ('about', 'ADP'), ('3,600', 'NUM'), ('jobs', 'NOUN'), ('.', '.')], [('In', 'ADP'), ('*', 'X'), ('investing', 'VERB'), ('on', 'ADP'), ('the', 'DET'), ('basis', 'NOUN'), ('of', 'ADP'), ('future', 'ADJ'), ('transactions', 'NOUN'), (',', '.'), ('a', 'DET'), ('role', 'NOUN'), ('often', 'ADV'), ('performed', 'VERB'), ('*', 'X'), ('by', 'ADP'), ('merchant', 'NOUN'), ('banks', 'NOUN'), (',', '.'), ('trading', 'NOUN'), ('companies', 'NOUN'), ('can', 'VERB'), ('cut', 'VERB'), ('through', 'ADP'), ('the', 'DET'), ('logjam', 'NOUN'), ('that', 'ADP'), ('small-company', 'NOUN'), ('owners', 'NOUN'), ('often', 'ADV'), ('face', 'VERB'), ('*T*-1', 'X'), ('with', 'ADP'), ('their', 'PRON'), ('local', 'ADJ'), ('commercial', 'ADJ'), ('banks', 'NOUN'), ('.', '.')], [('So', 'ADP'), ('far', 'ADV'), (',', '.'), ('they', 'PRON'), ('said', 'VERB'), ('0', 'X'), ('*T*-2', 'X'), (',', '.'), ('investors', 'NOUN'), ('appear', 'VERB'), ('unenthusiastic', 'ADJ'), ('about', 'ADP'), ('the', 'DET'), ('new', 'ADJ'), ('issue', 'NOUN'), ('which', 'DET'), ('*T*-1', 'X'), ('might', 'VERB'), ('force', 'VERB'), ('the', 'DET'), ('government', 'NOUN'), ('to', 'PRT'), ('raise', 'VERB'), ('the', 'DET'), ('coupon', 'NOUN'), ('to', 'PRT'), ('more', 'ADJ'), ('than', 'ADP'), ('7', 'NUM'), ('%', 'NOUN'), ('.', '.')], [('Oshkosh', 'NOUN'), ('Truck', 'NOUN'), ('Corp.', 'NOUN'), (',', '.'), ('Oshkosh', 'NOUN'), (',', '.'), ('Wis.', 'NOUN'), (',', '.'), ('estimated', 'VERB'), ('0', 'X'), ('earnings', 'NOUN'), ('for', 'ADP'), ('its', 'PRON'), ('fourth', 'ADJ'), ('quarter', 'NOUN'), ('ended', 'VERB'), ('Sept.', 'NOUN'), ('30', 'NUM'), ('fell', 'VERB'), ('50', 'NUM'), ('%', 'NOUN'), ('to', 'PRT'), ('75', 'NUM'), ('%', 'NOUN'), ('below', 'ADP'), ('the', 'DET'), ('year-earlier', 'ADJ'), ('$', '.'), ('4.5', 'NUM'), ('million', 'NUM'), ('*U*', 'X'), (',', '.'), ('or', 'CONJ'), ('51', 'NUM'), ('cents', 'NOUN'), ('a', 'DET'), ('share', 'NOUN'), ('.', '.')], [('In', 'ADP'), ('Seoul', 'NOUN'), (',', '.'), ('officials', 'NOUN'), ('began', 'VERB'), ('*-1', 'X'), ('visiting', 'VERB'), ('about', 'ADV'), ('26,000', 'NUM'), ('cigarette', 'NOUN'), ('stalls', 'NOUN'), ('*-1', 'X'), ('to', 'PRT'), ('remove', 'VERB'), ('illegal', 'ADJ'), ('posters', 'NOUN'), ('and', 'CONJ'), ('signboards', 'NOUN'), ('advertising', 'VERB'), ('imported', 'VERB'), ('cigarettes', 'NOUN'), ('.', '.')], [('The', 'DET'), ('loan', 'NOUN'), ('may', 'VERB'), ('be', 'VERB'), ('extended', 'VERB'), ('*-1', 'X'), ('by', 'ADP'), ('the', 'DET'), ('McAlpine', 'NOUN'), ('group', 'NOUN'), ('for', 'ADP'), ('an', 'DET'), ('additional', 'ADJ'), ('year', 'NOUN'), ('with', 'ADP'), ('an', 'DET'), ('increase', 'NOUN'), ('in', 'ADP'), ('the', 'DET'), ('conversion', 'NOUN'), ('price', 'NOUN'), ('to', 'PRT'), ('$', '.'), ('2.50', 'NUM'), ('*U*', 'X'), ('a', 'DET'), ('share', 'NOUN'), ('.', '.')], [('They', 'PRON'), ('are', 'VERB'), ('still', 'ADV'), ('trying', 'VERB'), ('*-1', 'X'), ('to', 'PRT'), ('lure', 'VERB'), ('back', 'ADV'), ('small', 'ADJ'), ('investors', 'NOUN'), ('spooked', 'VERB'), ('*', 'X'), ('by', 'ADP'), ('the', 'DET'), ('1987', 'NUM'), ('stock-market', 'NOUN'), ('crash', 'NOUN'), ('and', 'CONJ'), ('the', 'DET'), ('market', 'NOUN'), (\"'s\", 'PRT'), ('swings', 'NOUN'), ('since', 'ADP'), ('then', 'ADV'), ('.', '.')], [('In', 'ADP'), ('part', 'NOUN'), (',', '.'), ('this', 'DET'), ('may', 'VERB'), ('reflect', 'VERB'), ('the', 'DET'), ('fact', 'NOUN'), ('that', 'ADP'), ('`', '.'), ('she', 'PRON'), ('speaks', 'VERB'), ('a', 'DET'), ('more', 'ADJ'), ('progressive', 'ADJ'), ('language', 'NOUN'), (\"'\", '.'), ('than', 'ADP'), ('her', 'PRON'), ('husband', 'NOUN'), ('*?*', 'X'), (',', '.'), ('as', 'ADP'), ('Columbia', 'NOUN'), (\"'s\", 'PRT'), ('Prof', 'NOUN'), ('.', '.'), ('-LCB-', '.'), ('Ethel', 'NOUN'), ('-RCB-', '.'), ('Klein', 'NOUN'), ('puts', 'VERB'), ('it', 'PRON'), ('.', '.')], [('Almost', 'ADV'), ('all', 'DET'), ('new', 'ADJ'), ('regulation', 'NOUN'), ('is', 'VERB'), ('introduced', 'VERB'), ('*-81', 'X'), ('in', 'ADP'), ('the', 'DET'), ('interests', 'NOUN'), ('of', 'ADP'), ('*', 'X'), ('protecting', 'VERB'), ('the', 'DET'), ('little', 'ADJ'), ('guy', 'NOUN'), (',', '.'), ('and', 'CONJ'), ('he', 'PRON'), ('invariably', 'ADV'), ('is', 'VERB'), ('the', 'DET'), ('one', 'NUM'), ('least', 'ADJ'), ('able', 'ADJ'), ('*', 'X'), ('to', 'PRT'), ('cope', 'VERB'), ('with', 'ADP'), ('its', 'PRON'), ('consequences', 'NOUN'), ('.', '.')], [('Elisa', 'NOUN'), ('Hollis', 'NOUN'), ('launched', 'VERB'), ('a', 'DET'), ('diaper', 'NOUN'), ('service', 'NOUN'), ('last', 'ADJ'), ('year', 'NOUN'), ('because', 'ADP'), ('State', 'NOUN'), ('College', 'NOUN'), (',', '.'), ('Pa.', 'NOUN'), (',', '.'), ('where', 'ADV'), ('she', 'PRON'), ('lives', 'VERB'), ('*T*-1', 'X'), (',', '.'), ('did', 'VERB'), (\"n't\", 'ADV'), ('have', 'VERB'), ('one', 'NUM'), ('.', '.')], [('The', 'DET'), ('leadership', 'NOUN'), ('hopes', 'VERB'), ('*-1', 'X'), ('to', 'PRT'), ('move', 'VERB'), ('the', 'DET'), ('compromise', 'NOUN'), ('measure', 'NOUN'), ('promptly', 'ADV'), ('to', 'PRT'), ('the', 'DET'), ('White', 'NOUN'), ('House', 'NOUN'), (',', '.'), ('but', 'CONJ'), ('in', 'ADP'), ('recent', 'ADJ'), ('days', 'NOUN'), (',', '.'), ('the', 'DET'), ('Senate', 'NOUN'), ('has', 'VERB'), ('been', 'VERB'), ('as', 'ADV'), ('likely', 'ADJ'), ('*-3', 'X'), ('to', 'PRT'), ('bounce', 'VERB'), ('bills', 'NOUN'), ('back', 'ADV'), ('to', 'PRT'), ('the', 'DET'), ('House', 'NOUN'), ('.', '.')], [('But', 'CONJ'), ('its', 'PRON'), ('17', 'NUM'), ('big', 'ADJ'), ('junk', 'NOUN'), ('holdings', 'NOUN'), ('at', 'ADP'), ('year', 'NOUN'), ('end', 'NOUN'), ('showed', 'VERB'), ('only', 'ADV'), ('a', 'DET'), ('few', 'ADJ'), ('bonds', 'NOUN'), ('that', 'DET'), ('*T*-1', 'X'), ('have', 'VERB'), ('been', 'VERB'), ('really', 'ADV'), ('battered', 'VERB'), ('*-2', 'X'), ('.', '.')], [('Glaxo', 'NOUN'), (',', '.'), ('the', 'DET'), ('U.K.', 'NOUN'), (\"'s\", 'PRT'), ('largest', 'ADJ'), ('pharmaceutical', 'ADJ'), ('concern', 'NOUN'), (',', '.'), ('advanced', 'VERB'), ('23', 'NUM'), ('to', 'PRT'), ('#', '.'), ('14.13', 'NUM'), ('*U*', 'X'), ('.', '.')], [('In', 'ADP'), ('most', 'ADJ'), ('of', 'ADP'), ('the', 'DET'), ('British', 'ADJ'), ('transactions', 'NOUN'), (',', '.'), ('the', 'DET'), ('municipalities', 'NOUN'), ('agreed', 'VERB'), ('*-1', 'X'), ('to', 'PRT'), ('make', 'VERB'), ('floating-rate', 'ADJ'), ('payments', 'NOUN'), ('to', 'PRT'), ('banks', 'NOUN'), (',', '.'), ('which', 'DET'), ('*T*-62', 'X'), ('would', 'VERB'), ('make', 'VERB'), ('fixed-rate', 'ADJ'), ('payments', 'NOUN'), ('.', '.')], [('James', 'NOUN'), ('Mason', 'NOUN'), (',', '.'), ('assistant', 'NOUN'), ('secretary', 'NOUN'), ('for', 'ADP'), ('health', 'NOUN'), (',', '.'), ('said', 'VERB'), ('0', 'X'), ('the', 'DET'), ('ban', 'NOUN'), ('on', 'ADP'), ('federal', 'ADJ'), ('funding', 'NOUN'), ('of', 'ADP'), ('fetal-tissue', 'ADJ'), ('transplant', 'NOUN'), ('research', 'NOUN'), ('``', '.'), ('should', 'VERB'), ('be', 'VERB'), ('continued', 'VERB'), ('*-1', 'X'), ('indefinitely', 'ADV'), ('.', '.'), (\"''\", '.')], [('The', 'DET'), ('department', 'NOUN'), ('previously', 'ADV'), ('estimated', 'VERB'), ('that', 'ADP'), ('durable-goods', 'NOUN'), ('orders', 'NOUN'), ('fell', 'VERB'), ('0.1', 'NUM'), ('%', 'NOUN'), ('in', 'ADP'), ('September', 'NOUN'), ('.', '.')], [('The', 'DET'), ('official', 'ADJ'), ('news', 'NOUN'), ('agency', 'NOUN'), ('PAP', 'NOUN'), ('said', 'VERB'), ('0', 'X'), ('the', 'DET'), ('increases', 'NOUN'), ('were', 'VERB'), ('intended', 'VERB'), ('*-1', 'X'), ('to', 'PRT'), ('bring', 'VERB'), ('unrealistically', 'ADV'), ('low', 'ADJ'), ('energy', 'NOUN'), ('charges', 'NOUN'), ('into', 'ADP'), ('line', 'NOUN'), ('with', 'ADP'), ('production', 'NOUN'), ('costs', 'NOUN'), ('and', 'CONJ'), ('compensate', 'VERB'), ('for', 'ADP'), ('a', 'DET'), ('rise', 'NOUN'), ('in', 'ADP'), ('coal', 'NOUN'), ('prices', 'NOUN'), ('.', '.')], [('Mr.', 'NOUN'), ('Hammond', 'NOUN'), ('worries', 'VERB'), ('that', 'ADP'), ('old', 'ADJ'), ('age', 'NOUN'), ('and', 'CONJ'), ('the', 'DET'), ('flightiness', 'NOUN'), ('of', 'ADP'), ('youth', 'NOUN'), ('will', 'VERB'), ('diminish', 'VERB'), ('the', 'DET'), ('ranks', 'NOUN'), ('of', 'ADP'), ('the', 'DET'), ('East', 'ADJ'), ('Anglian', 'ADJ'), ('group', 'NOUN'), ('that', 'DET'), ('*T*-223', 'X'), ('keeps', 'VERB'), ('the', 'DET'), ('Aslacton', 'NOUN'), ('bells', 'NOUN'), ('pealing', 'VERB'), ('.', '.')], [('In', 'ADP'), ('1975', 'NUM'), (',', '.'), ('Mr.', 'NOUN'), ('Pamplin', 'NOUN'), ('enticed', 'VERB'), ('Mr.', 'NOUN'), ('Hahn', 'NOUN'), ('into', 'ADP'), ('*', 'X'), ('joining', 'VERB'), ('the', 'DET'), ('company', 'NOUN'), ('as', 'ADP'), ('executive', 'ADJ'), ('vice', 'NOUN'), ('president', 'NOUN'), ('in', 'ADP'), ('charge', 'NOUN'), ('of', 'ADP'), ('chemicals', 'NOUN'), (';', '.'), ('the', 'DET'), ('move', 'NOUN'), ('befuddled', 'VERB'), ('many', 'ADJ'), ('in', 'ADP'), ('Georgia-Pacific', 'NOUN'), ('who', 'PRON'), ('*T*-5', 'X'), ('did', 'VERB'), (\"n't\", 'ADV'), ('believe', 'VERB'), ('0', 'X'), ('a', 'DET'), ('university', 'NOUN'), ('administrator', 'NOUN'), ('could', 'VERB'), ('make', 'VERB'), ('the', 'DET'), ('transition', 'NOUN'), ('to', 'PRT'), ('the', 'DET'), ('corporate', 'ADJ'), ('world', 'NOUN'), ('.', '.')], [('Mr.', 'NOUN'), ('Reupke', 'NOUN'), (',', '.'), ('52', 'NUM'), ('years', 'NOUN'), ('old', 'ADJ'), ('and', 'CONJ'), ('a', 'DET'), ('27-year', 'ADJ'), ('Reuters', 'NOUN'), ('veteran', 'NOUN'), (',', '.'), ('had', 'VERB'), ('been', 'VERB'), ('the', 'DET'), ('information-services', 'NOUN'), ('company', 'NOUN'), (\"'s\", 'PRT'), ('general', 'ADJ'), ('manager', 'NOUN'), ('for', 'ADP'), ('only', 'ADV'), ('six', 'NUM'), ('months', 'NOUN'), ('.', '.')], [('Lawyers', 'NOUN'), ('worry', 'VERB'), ('that', 'ADP'), ('if', 'ADP'), ('they', 'PRON'), ('provide', 'VERB'), ('information', 'NOUN'), ('about', 'ADP'), ('clients', 'NOUN'), (',', '.'), ('that', 'DET'), ('data', 'NOUN'), ('could', 'VERB'), ('quickly', 'ADV'), ('end', 'VERB'), ('up', 'PRT'), ('in', 'ADP'), ('the', 'DET'), ('hands', 'NOUN'), ('of', 'ADP'), ('prosecutors', 'NOUN'), ('.', '.')], [('``', '.'), ('We', 'PRON'), ('are', 'VERB'), ('prepared', 'VERB'), ('*-1', 'X'), ('to', 'PRT'), ('pursue', 'VERB'), ('aggressively', 'ADV'), ('completion', 'NOUN'), ('of', 'ADP'), ('this', 'DET'), ('transaction', 'NOUN'), (',', '.'), (\"''\", '.'), ('he', 'PRON'), ('says', 'VERB'), ('*T*-2', 'X'), ('.', '.')], [('$', '.'), ('130', 'NUM'), ('million', 'NUM'), ('*U*', 'X'), ('of', 'ADP'), ('general', 'ADJ'), ('obligation', 'NOUN'), ('distributable', 'ADJ'), ('state', 'NOUN'), ('aid', 'NOUN'), ('bonds', 'NOUN'), ('due', 'ADJ'), ('1991-2000', 'NUM'), ('and', 'CONJ'), ('2009', 'NUM'), (',', '.'), ('tentatively', 'ADV'), ('priced', 'VERB'), ('*', 'X'), ('by', 'ADP'), ('a', 'DET'), ('Chemical', 'NOUN'), ('Securities', 'NOUN'), ('Inc.', 'NOUN'), ('group', 'NOUN'), ('*', 'X'), ('to', 'PRT'), ('yield', 'VERB'), ('from', 'ADP'), ('6.20', 'NUM'), ('%', 'NOUN'), ('in', 'ADP'), ('1991', 'NUM'), ('to', 'PRT'), ('7.272', 'NUM'), ('%', 'NOUN'), ('in', 'ADP'), ('2009', 'NUM'), ('.', '.')], [('As', 'ADP'), ('liability', 'NOUN'), ('expert', 'NOUN'), ('Peter', 'NOUN'), ('Huber', 'NOUN'), ('tells', 'VERB'), ('us', 'PRON'), (',', '.'), ('after', 'ADP'), ('the', 'DET'), ('Hymowitz', 'NOUN'), ('case', 'NOUN'), (',', '.'), ('if', 'ADP'), ('any', 'DET'), ('drug', 'NOUN'), ('maker', 'NOUN'), ('introduces', 'VERB'), ('an', 'DET'), ('anti-miscarriage', 'ADJ'), ('drug', 'NOUN'), ('``', '.'), ('it', 'PRON'), (\"'s\", 'VERB'), ('time', 'NOUN'), ('0', 'X'), ('*', 'X'), ('to', 'PRT'), ('sell', 'VERB'), ('that', 'DET'), ('company', 'NOUN'), (\"'s\", 'PRT'), ('stock', 'NOUN'), ('short', 'ADV'), ('*T*-1', 'X'), ('.', '.'), (\"''\", '.')], [('So', 'ADP'), ('both', 'DET'), ('sides', 'NOUN'), ('accepted', 'VERB'), ('the', 'DET'), ('compromise', 'NOUN'), (',', '.'), ('which', 'DET'), ('*T*-259', 'X'), ('would', 'VERB'), ('lead', 'VERB'), ('to', 'PRT'), ('the', 'DET'), ('first', 'ADJ'), ('lifting', 'NOUN'), ('of', 'ADP'), ('the', 'DET'), ('minimum', 'ADJ'), ('wage', 'NOUN'), ('since', 'ADP'), ('a', 'DET'), ('four-year', 'ADJ'), ('law', 'NOUN'), ('was', 'VERB'), ('enacted', 'VERB'), ('*-163', 'X'), ('in', 'ADP'), ('1977', 'NUM'), (',', '.'), ('*-163', 'X'), ('raising', 'VERB'), ('the', 'DET'), ('wage', 'NOUN'), ('to', 'PRT'), ('$', '.'), ('3.35', 'NUM'), ('*U*', 'X'), ('an', 'DET'), ('hour', 'NOUN'), ('from', 'ADP'), ('$', '.'), ('2.65', 'NUM'), ('*U*', 'X'), ('.', '.')], [('The', 'DET'), ('refund', 'NOUN'), ('was', 'VERB'), ('about', 'ADP'), ('$', '.'), ('55', 'NUM'), ('million', 'NUM'), ('*U*', 'X'), ('more', 'ADJ'), ('than', 'ADP'), ('*', 'X'), ('previously', 'ADV'), ('ordered', 'VERB'), ('*-1', 'X'), ('by', 'ADP'), ('the', 'DET'), ('Illinois', 'NOUN'), ('Commerce', 'NOUN'), ('Commission', 'NOUN'), ('and', 'CONJ'), ('trade', 'NOUN'), ('groups', 'NOUN'), ('said', 'VERB'), ('0', 'X'), ('it', 'PRON'), ('may', 'VERB'), ('be', 'VERB'), ('the', 'DET'), ('largest', 'ADJ'), ('ever', 'ADV'), ('required', 'VERB'), ('*', 'X'), ('of', 'ADP'), ('a', 'DET'), ('state', 'NOUN'), ('or', 'CONJ'), ('local', 'ADJ'), ('utility', 'NOUN'), ('.', '.')], [('Only', 'ADV'), ('19', 'NUM'), ('%', 'NOUN'), ('of', 'ADP'), ('the', 'DET'), ('purchasing', 'VERB'), ('managers', 'NOUN'), ('reported', 'VERB'), ('better', 'ADJ'), ('export', 'NOUN'), ('orders', 'NOUN'), ('in', 'ADP'), ('October', 'NOUN'), (',', '.'), ('down', 'ADV'), ('from', 'ADP'), ('27', 'NUM'), ('%', 'NOUN'), ('in', 'ADP'), ('September', 'NOUN'), ('.', '.')]]\n"
     ]
    }
   ],
   "source": [
    "print(train_set[:40])"
   ]
  },
  {
   "cell_type": "code",
   "execution_count": 6,
   "metadata": {},
   "outputs": [
    {
     "data": {
      "text/plain": [
       "95640"
      ]
     },
     "execution_count": 6,
     "metadata": {},
     "output_type": "execute_result"
    }
   ],
   "source": [
    "#Training Data\n",
    "train_tagged_words = [tup for sent in train_set for tup in sent]\n",
    "len(train_tagged_words)"
   ]
  },
  {
   "cell_type": "code",
   "execution_count": 7,
   "metadata": {},
   "outputs": [
    {
     "data": {
      "text/plain": [
       "5036"
      ]
     },
     "execution_count": 7,
     "metadata": {},
     "output_type": "execute_result"
    }
   ],
   "source": [
    "# Test Data\n",
    "validation = [tup for sent in test_set for tup in sent]\n",
    "len(validation)"
   ]
  },
  {
   "cell_type": "code",
   "execution_count": 8,
   "metadata": {},
   "outputs": [
    {
     "data": {
      "text/plain": [
       "['The',\n",
       " 'Department',\n",
       " 'of',\n",
       " 'Health',\n",
       " 'and',\n",
       " 'Human',\n",
       " 'Services',\n",
       " 'plans',\n",
       " '*-1',\n",
       " 'to']"
      ]
     },
     "execution_count": 8,
     "metadata": {},
     "output_type": "execute_result"
    }
   ],
   "source": [
    "tokens = [pair[0] for pair in train_tagged_words]\n",
    "tokens[:10]"
   ]
  },
  {
   "cell_type": "code",
   "execution_count": 9,
   "metadata": {},
   "outputs": [
    {
     "name": "stdout",
     "output_type": "stream",
     "text": [
      "12073\n"
     ]
    }
   ],
   "source": [
    "# vocabulary\n",
    "V = set(tokens)\n",
    "print(len(V))"
   ]
  },
  {
   "cell_type": "code",
   "execution_count": 10,
   "metadata": {},
   "outputs": [
    {
     "data": {
      "text/plain": [
       "12"
      ]
     },
     "execution_count": 10,
     "metadata": {},
     "output_type": "execute_result"
    }
   ],
   "source": [
    "# number of tags\n",
    "T = set([pair[1] for pair in train_tagged_words])\n",
    "len(T)"
   ]
  },
  {
   "cell_type": "code",
   "execution_count": 11,
   "metadata": {},
   "outputs": [
    {
     "name": "stdout",
     "output_type": "stream",
     "text": [
      "{'CONJ', 'VERB', 'PRON', 'NOUN', 'ADP', 'ADJ', 'PRT', 'ADV', 'DET', 'X', 'NUM', '.'}\n"
     ]
    }
   ],
   "source": [
    "print(T)"
   ]
  },
  {
   "cell_type": "markdown",
   "metadata": {},
   "source": [
    "### POS Tagging Algorithm - HMM"
   ]
  },
  {
   "cell_type": "code",
   "execution_count": 12,
   "metadata": {},
   "outputs": [],
   "source": [
    "# computing P(w/t) and storing in T x V matrix\n",
    "t = len(T)\n",
    "v = len(V)\n",
    "w_given_t = np.zeros((t, v))"
   ]
  },
  {
   "cell_type": "markdown",
   "metadata": {},
   "source": [
    "##### Emission Probability"
   ]
  },
  {
   "cell_type": "code",
   "execution_count": 13,
   "metadata": {},
   "outputs": [],
   "source": [
    "def word_given_tag(word, tag, train_bag = train_tagged_words):\n",
    "    tag_list = [pair for pair in train_bag if pair[1]==tag]\n",
    "    count_tag = len(tag_list)\n",
    "    w_given_tag_list = [pair[0] for pair in tag_list if pair[0]==word]\n",
    "    count_w_given_tag = len(w_given_tag_list)\n",
    "    \n",
    "    return (count_w_given_tag, count_tag)"
   ]
  },
  {
   "cell_type": "code",
   "execution_count": 14,
   "metadata": {},
   "outputs": [
    {
     "name": "stdout",
     "output_type": "stream",
     "text": [
      "\n",
      " bonus\n",
      "(0, 6083)\n",
      "(0, 12902)\n",
      "(6, 27411) \n",
      "\n",
      "\n",
      " offering\n",
      "(10, 12902)\n",
      "(14, 27411)\n",
      "\n",
      " retirement\n",
      "(10, 27411)\n",
      "(0, 12902)\n"
     ]
    }
   ],
   "source": [
    "# examples\n",
    "\n",
    "# bonus\n", 
    "print(\"\\n\", \"bonus\")\n",
    "print(word_given_tag('bonus', 'ADJ'))\n",
    "print(word_given_tag('bonus', 'VERB'))\n",
    "print(word_given_tag('bonus', 'NOUN'), \"\\n\")\n",
    "\n",
    "# will\n",
    "print(\"\\n\", \"offering\")\n",
    "print(word_given_tag('offering', 'VERB'))\n",
    "print(word_given_tag('offering', 'NOUN'))\n",
    "\n",
    "# book\n",
    "print(\"\\n\", \"retirement\")\n",
    "print(word_given_tag('retirement', 'NOUN'))\n",
    "print(word_given_tag('retirement', 'VERB'))"
   ]
  },
  {
   "cell_type": "markdown",
   "metadata": {},
   "source": [
    "##### Transition Probability"
   ]
  },
  {
   "cell_type": "code",
   "execution_count": 15,
   "metadata": {},
   "outputs": [],
   "source": [
    "def t2_given_t1(t2, t1, train_bag = train_tagged_words):\n",
    "    tags = [pair[1] for pair in train_bag]\n",
    "    count_t1 = len([t for t in tags if t==t1])\n",
    "    count_t2_t1 = 0\n",
    "    for index in range(len(tags)-1):\n",
    "        if tags[index]==t1 and tags[index+1] == t2:\n",
    "            count_t2_t1 += 1\n",
    "    return (count_t2_t1, count_t1)"
   ]
  },
  {
   "cell_type": "code",
   "execution_count": 16,
   "metadata": {},
   "outputs": [
    {
     "name": "stdout",
     "output_type": "stream",
     "text": [
      "(4252, 6083)\n",
      "(5286, 8291)\n",
      "(1435, 12902)\n",
      "(6606, 27411)\n",
      "(4026, 27411)\n"
     ]
    }
   ],
   "source": [
    "print(t2_given_t1(t2='NOUN', t1='ADJ'))\n",
    "print(t2_given_t1('NOUN', 'DET'))\n",
    "print(t2_given_t1('NOUN', 'VERB'))\n",
    "print(t2_given_t1('.', 'NOUN'))\n",
    "print(t2_given_t1('VERB', 'NOUN'))"
   ]
  },
  {
   "cell_type": "code",
   "execution_count": 17,
   "metadata": {},
   "outputs": [],
   "source": [
    "# creating t x t transition matrix of tags\n",
    "# each column is t2, each row is t1\n",
    "# thus M(i, j) represents P(tj given ti)\n",
    "\n",
    "tags_matrix = np.zeros((len(T), len(T)), dtype='float32')\n",
    "for i, t1 in enumerate(list(T)):\n",
    "    for j, t2 in enumerate(list(T)): \n",
    "        tags_matrix[i, j] = t2_given_t1(t2, t1)[0]/t2_given_t1(t2, t1)[1]"
   ]
  },
  {
   "cell_type": "code",
   "execution_count": 18,
   "metadata": {},
   "outputs": [
    {
     "data": {
      "text/plain": [
       "array([[4.65332705e-04, 1.54025123e-01, 6.04932532e-02, 3.51791531e-01,\n",
       "        5.11865988e-02, 1.20521173e-01, 4.65332717e-03, 5.39785959e-02,\n",
       "        1.20055839e-01, 8.37598927e-03, 4.18799445e-02, 3.25732902e-02],\n",
       "       [5.42551558e-03, 1.68190971e-01, 3.55758779e-02, 1.11223064e-01,\n",
       "        9.06061083e-02, 6.55712262e-02, 3.10804527e-02, 8.16927627e-02,\n",
       "        1.35327861e-01, 2.17718184e-01, 2.24771351e-02, 3.51108350e-02],\n",
       "       [4.98084305e-03, 4.85823750e-01, 7.66283507e-03, 2.09195405e-01,\n",
       "        2.29885057e-02, 7.16475099e-02, 1.22605367e-02, 3.40996161e-02,\n",
       "        8.42911843e-03, 9.46360156e-02, 7.66283507e-03, 4.06130254e-02],\n",
       "       [4.28295210e-02, 1.46875337e-01, 4.77910321e-03, 2.63179004e-01,\n",
       "        1.76972747e-01, 1.18200723e-02, 4.33402658e-02, 1.71464011e-02,\n",
       "        1.33887855e-02, 2.90394370e-02, 9.63116996e-03, 2.40998134e-01],\n",
       "       [8.54062149e-04, 8.64737947e-03, 6.92857876e-02, 3.21447641e-01,\n",
       "        1.70812421e-02, 1.07611828e-01, 1.38785096e-03, 1.38785094e-02,\n",
       "        3.23582798e-01, 3.51233035e-02, 6.22397773e-02, 3.88598256e-02],\n",
       "       [1.62748639e-02, 1.23294424e-02, 6.57570257e-04, 6.98997200e-01,\n",
       "        7.72645101e-02, 6.78941309e-02, 1.03567317e-02, 4.76738438e-03,\n",
       "        5.09616965e-03, 2.13710349e-02, 2.00558938e-02, 6.49350658e-02],\n",
       "       [1.97823928e-03, 4.02242005e-01, 1.74744483e-02, 2.48269036e-01,\n",
       "        2.11012196e-02, 8.44048783e-02, 1.64853281e-03, 9.89119709e-03,\n",
       "        9.95713845e-02, 1.35179693e-02, 5.67095280e-02, 4.31915596e-02],\n",
       "       [6.96517434e-03, 3.42951894e-01, 1.52570484e-02, 3.11774462e-02,\n",
       "        1.17412932e-01, 1.29684910e-01, 1.35986730e-02, 7.99336657e-02,\n",
       "        6.86567128e-02, 2.32172478e-02, 3.21724713e-02, 1.38971806e-01],\n",
       "       [4.82450851e-04, 3.99228074e-02, 3.49776866e-03, 6.37558818e-01,\n",
       "        9.40779131e-03, 2.04679772e-01, 2.41225425e-04, 1.26643348e-02,\n",
       "        5.54818474e-03, 4.67977338e-02, 2.12278366e-02, 1.79712940e-02],\n",
       "       [1.03190979e-02, 2.07334504e-01, 5.61993979e-02, 6.20733462e-02,\n",
       "        1.45102397e-01, 1.61930472e-02, 1.84791237e-01, 2.49245912e-02,\n",
       "        5.39768226e-02, 7.39799961e-02, 2.85759638e-03, 1.62247971e-01],\n",
       "       [1.34529145e-02, 1.85351279e-02, 1.49476831e-03, 3.56651723e-01,\n",
       "        3.40807177e-02, 3.28849033e-02, 2.63079219e-02, 2.69058300e-03,\n",
       "        2.98953662e-03, 2.11061284e-01, 1.84454411e-01, 1.15396112e-01],\n",
       "       [5.77458479e-02, 8.96273032e-02, 6.55590445e-02, 2.22721145e-01,\n",
       "        9.18724760e-02, 4.40053903e-02, 2.33497983e-03, 5.25370464e-02,\n",
       "        1.73327342e-01, 2.68522669e-02, 8.04669932e-02, 9.28603485e-02]],\n",
       "      dtype=float32)"
      ]
     },
     "execution_count": 18,
     "metadata": {},
     "output_type": "execute_result"
    }
   ],
   "source": [
    "tags_matrix"
   ]
  },
  {
   "cell_type": "code",
   "execution_count": 19,
   "metadata": {},
   "outputs": [
    {
     "data": {
      "text/html": [
       "<div>\n",
       "<style scoped>\n",
       "    .dataframe tbody tr th:only-of-type {\n",
       "        vertical-align: middle;\n",
       "    }\n",
       "\n",
       "    .dataframe tbody tr th {\n",
       "        vertical-align: top;\n",
       "    }\n",
       "\n",
       "    .dataframe thead th {\n",
       "        text-align: right;\n",
       "    }\n",
       "</style>\n",
       "<table border=\"1\" class=\"dataframe\">\n",
       "  <thead>\n",
       "    <tr style=\"text-align: right;\">\n",
       "      <th></th>\n",
       "      <th>CONJ</th>\n",
       "      <th>VERB</th>\n",
       "      <th>PRON</th>\n",
       "      <th>NOUN</th>\n",
       "      <th>ADP</th>\n",
       "      <th>ADJ</th>\n",
       "      <th>PRT</th>\n",
       "      <th>ADV</th>\n",
       "      <th>DET</th>\n",
       "      <th>X</th>\n",
       "      <th>NUM</th>\n",
       "      <th>.</th>\n",
       "    </tr>\n",
       "  </thead>\n",
       "  <tbody>\n",
       "    <tr>\n",
       "      <th>CONJ</th>\n",
       "      <td>0.000465</td>\n",
       "      <td>0.154025</td>\n",
       "      <td>0.060493</td>\n",
       "      <td>0.351792</td>\n",
       "      <td>0.051187</td>\n",
       "      <td>0.120521</td>\n",
       "      <td>0.004653</td>\n",
       "      <td>0.053979</td>\n",
       "      <td>0.120056</td>\n",
       "      <td>0.008376</td>\n",
       "      <td>0.041880</td>\n",
       "      <td>0.032573</td>\n",
       "    </tr>\n",
       "    <tr>\n",
       "      <th>VERB</th>\n",
       "      <td>0.005426</td>\n",
       "      <td>0.168191</td>\n",
       "      <td>0.035576</td>\n",
       "      <td>0.111223</td>\n",
       "      <td>0.090606</td>\n",
       "      <td>0.065571</td>\n",
       "      <td>0.031080</td>\n",
       "      <td>0.081693</td>\n",
       "      <td>0.135328</td>\n",
       "      <td>0.217718</td>\n",
       "      <td>0.022477</td>\n",
       "      <td>0.035111</td>\n",
       "    </tr>\n",
       "    <tr>\n",
       "      <th>PRON</th>\n",
       "      <td>0.004981</td>\n",
       "      <td>0.485824</td>\n",
       "      <td>0.007663</td>\n",
       "      <td>0.209195</td>\n",
       "      <td>0.022989</td>\n",
       "      <td>0.071648</td>\n",
       "      <td>0.012261</td>\n",
       "      <td>0.034100</td>\n",
       "      <td>0.008429</td>\n",
       "      <td>0.094636</td>\n",
       "      <td>0.007663</td>\n",
       "      <td>0.040613</td>\n",
       "    </tr>\n",
       "    <tr>\n",
       "      <th>NOUN</th>\n",
       "      <td>0.042830</td>\n",
       "      <td>0.146875</td>\n",
       "      <td>0.004779</td>\n",
       "      <td>0.263179</td>\n",
       "      <td>0.176973</td>\n",
       "      <td>0.011820</td>\n",
       "      <td>0.043340</td>\n",
       "      <td>0.017146</td>\n",
       "      <td>0.013389</td>\n",
       "      <td>0.029039</td>\n",
       "      <td>0.009631</td>\n",
       "      <td>0.240998</td>\n",
       "    </tr>\n",
       "    <tr>\n",
       "      <th>ADP</th>\n",
       "      <td>0.000854</td>\n",
       "      <td>0.008647</td>\n",
       "      <td>0.069286</td>\n",
       "      <td>0.321448</td>\n",
       "      <td>0.017081</td>\n",
       "      <td>0.107612</td>\n",
       "      <td>0.001388</td>\n",
       "      <td>0.013879</td>\n",
       "      <td>0.323583</td>\n",
       "      <td>0.035123</td>\n",
       "      <td>0.062240</td>\n",
       "      <td>0.038860</td>\n",
       "    </tr>\n",
       "    <tr>\n",
       "      <th>ADJ</th>\n",
       "      <td>0.016275</td>\n",
       "      <td>0.012329</td>\n",
       "      <td>0.000658</td>\n",
       "      <td>0.698997</td>\n",
       "      <td>0.077265</td>\n",
       "      <td>0.067894</td>\n",
       "      <td>0.010357</td>\n",
       "      <td>0.004767</td>\n",
       "      <td>0.005096</td>\n",
       "      <td>0.021371</td>\n",
       "      <td>0.020056</td>\n",
       "      <td>0.064935</td>\n",
       "    </tr>\n",
       "    <tr>\n",
       "      <th>PRT</th>\n",
       "      <td>0.001978</td>\n",
       "      <td>0.402242</td>\n",
       "      <td>0.017474</td>\n",
       "      <td>0.248269</td>\n",
       "      <td>0.021101</td>\n",
       "      <td>0.084405</td>\n",
       "      <td>0.001649</td>\n",
       "      <td>0.009891</td>\n",
       "      <td>0.099571</td>\n",
       "      <td>0.013518</td>\n",
       "      <td>0.056710</td>\n",
       "      <td>0.043192</td>\n",
       "    </tr>\n",
       "    <tr>\n",
       "      <th>ADV</th>\n",
       "      <td>0.006965</td>\n",
       "      <td>0.342952</td>\n",
       "      <td>0.015257</td>\n",
       "      <td>0.031177</td>\n",
       "      <td>0.117413</td>\n",
       "      <td>0.129685</td>\n",
       "      <td>0.013599</td>\n",
       "      <td>0.079934</td>\n",
       "      <td>0.068657</td>\n",
       "      <td>0.023217</td>\n",
       "      <td>0.032172</td>\n",
       "      <td>0.138972</td>\n",
       "    </tr>\n",
       "    <tr>\n",
       "      <th>DET</th>\n",
       "      <td>0.000482</td>\n",
       "      <td>0.039923</td>\n",
       "      <td>0.003498</td>\n",
       "      <td>0.637559</td>\n",
       "      <td>0.009408</td>\n",
       "      <td>0.204680</td>\n",
       "      <td>0.000241</td>\n",
       "      <td>0.012664</td>\n",
       "      <td>0.005548</td>\n",
       "      <td>0.046798</td>\n",
       "      <td>0.021228</td>\n",
       "      <td>0.017971</td>\n",
       "    </tr>\n",
       "    <tr>\n",
       "      <th>X</th>\n",
       "      <td>0.010319</td>\n",
       "      <td>0.207335</td>\n",
       "      <td>0.056199</td>\n",
       "      <td>0.062073</td>\n",
       "      <td>0.145102</td>\n",
       "      <td>0.016193</td>\n",
       "      <td>0.184791</td>\n",
       "      <td>0.024925</td>\n",
       "      <td>0.053977</td>\n",
       "      <td>0.073980</td>\n",
       "      <td>0.002858</td>\n",
       "      <td>0.162248</td>\n",
       "    </tr>\n",
       "    <tr>\n",
       "      <th>NUM</th>\n",
       "      <td>0.013453</td>\n",
       "      <td>0.018535</td>\n",
       "      <td>0.001495</td>\n",
       "      <td>0.356652</td>\n",
       "      <td>0.034081</td>\n",
       "      <td>0.032885</td>\n",
       "      <td>0.026308</td>\n",
       "      <td>0.002691</td>\n",
       "      <td>0.002990</td>\n",
       "      <td>0.211061</td>\n",
       "      <td>0.184454</td>\n",
       "      <td>0.115396</td>\n",
       "    </tr>\n",
       "    <tr>\n",
       "      <th>.</th>\n",
       "      <td>0.057746</td>\n",
       "      <td>0.089627</td>\n",
       "      <td>0.065559</td>\n",
       "      <td>0.222721</td>\n",
       "      <td>0.091872</td>\n",
       "      <td>0.044005</td>\n",
       "      <td>0.002335</td>\n",
       "      <td>0.052537</td>\n",
       "      <td>0.173327</td>\n",
       "      <td>0.026852</td>\n",
       "      <td>0.080467</td>\n",
       "      <td>0.092860</td>\n",
       "    </tr>\n",
       "  </tbody>\n",
       "</table>\n",
       "</div>"
      ],
      "text/plain": [
       "          CONJ      VERB      PRON      NOUN       ADP       ADJ       PRT  \\\n",
       "CONJ  0.000465  0.154025  0.060493  0.351792  0.051187  0.120521  0.004653   \n",
       "VERB  0.005426  0.168191  0.035576  0.111223  0.090606  0.065571  0.031080   \n",
       "PRON  0.004981  0.485824  0.007663  0.209195  0.022989  0.071648  0.012261   \n",
       "NOUN  0.042830  0.146875  0.004779  0.263179  0.176973  0.011820  0.043340   \n",
       "ADP   0.000854  0.008647  0.069286  0.321448  0.017081  0.107612  0.001388   \n",
       "ADJ   0.016275  0.012329  0.000658  0.698997  0.077265  0.067894  0.010357   \n",
       "PRT   0.001978  0.402242  0.017474  0.248269  0.021101  0.084405  0.001649   \n",
       "ADV   0.006965  0.342952  0.015257  0.031177  0.117413  0.129685  0.013599   \n",
       "DET   0.000482  0.039923  0.003498  0.637559  0.009408  0.204680  0.000241   \n",
       "X     0.010319  0.207335  0.056199  0.062073  0.145102  0.016193  0.184791   \n",
       "NUM   0.013453  0.018535  0.001495  0.356652  0.034081  0.032885  0.026308   \n",
       ".     0.057746  0.089627  0.065559  0.222721  0.091872  0.044005  0.002335   \n",
       "\n",
       "           ADV       DET         X       NUM         .  \n",
       "CONJ  0.053979  0.120056  0.008376  0.041880  0.032573  \n",
       "VERB  0.081693  0.135328  0.217718  0.022477  0.035111  \n",
       "PRON  0.034100  0.008429  0.094636  0.007663  0.040613  \n",
       "NOUN  0.017146  0.013389  0.029039  0.009631  0.240998  \n",
       "ADP   0.013879  0.323583  0.035123  0.062240  0.038860  \n",
       "ADJ   0.004767  0.005096  0.021371  0.020056  0.064935  \n",
       "PRT   0.009891  0.099571  0.013518  0.056710  0.043192  \n",
       "ADV   0.079934  0.068657  0.023217  0.032172  0.138972  \n",
       "DET   0.012664  0.005548  0.046798  0.021228  0.017971  \n",
       "X     0.024925  0.053977  0.073980  0.002858  0.162248  \n",
       "NUM   0.002691  0.002990  0.211061  0.184454  0.115396  \n",
       ".     0.052537  0.173327  0.026852  0.080467  0.092860  "
      ]
     },
     "execution_count": 19,
     "metadata": {},
     "output_type": "execute_result"
    }
   ],
   "source": [
    "tags_df = pd.DataFrame(tags_matrix, columns = list(T), index=list(T))\n",
    "tags_df"
   ]
  },
  {
   "cell_type": "code",
   "execution_count": 20,
   "metadata": {},
   "outputs": [
    {
     "data": {
      "text/plain": [
       "CONJ    0.057746\n",
       "VERB    0.089627\n",
       "PRON    0.065559\n",
       "NOUN    0.222721\n",
       "ADP     0.091872\n",
       "ADJ     0.044005\n",
       "PRT     0.002335\n",
       "ADV     0.052537\n",
       "DET     0.173327\n",
       "X       0.026852\n",
       "NUM     0.080467\n",
       ".       0.092860\n",
       "Name: ., dtype: float32"
      ]
     },
     "execution_count": 20,
     "metadata": {},
     "output_type": "execute_result"
    }
   ],
   "source": [
    "tags_df.loc['.', :]"
   ]
  },
  {
   "cell_type": "code",
   "execution_count": 21,
   "metadata": {},
   "outputs": [
    {
     "data": {
      "image/png": "[encoded data removed]",
      "text/plain": [
       "<Figure size 1296x864 with 2 Axes>"
      ]
     },
     "metadata": {
      "needs_background": "light"
     },
     "output_type": "display_data"
    }
   ],
   "source": [
    "plt.figure(figsize=(18, 12))\n",
    "sns.heatmap(tags_df)\n",
    "plt.show()"
   ]
  },
  {
   "cell_type": "markdown",
   "metadata": {},
   "source": [
    "### Build the vanilla Viterbi based POS tagger"
   ]
  },
  {
   "cell_type": "code",
   "execution_count": 22,
   "metadata": {},
   "outputs": [
    {
     "data": {
      "text/plain": [
       "95640"
      ]
     },
     "execution_count": 22,
     "metadata": {},
     "output_type": "execute_result"
    }
   ],
   "source": [
    "len(train_tagged_words)"
   ]
  },
  {
   "cell_type": "code",
   "execution_count": 23,
   "metadata": {},
   "outputs": [],
   "source": [
    "# Viterbi Heuristic\n",
    "def Viterbi(words, train_bag = train_tagged_words):\n",
    "    state = []\n",
    "    T = list(set([pair[1] for pair in train_bag]))\n",
    "    \n",
    "    for key, word in enumerate(words):\n",
    "        #initialise list of probability column for a given observation\n",
    "        p = [] \n",
    "        for tag in T:\n",
    "            if key == 0:\n",
    "                transition_p = tags_df.loc['.', tag]\n",
    "            else:\n",
    "                transition_p = tags_df.loc[state[-1], tag]\n",
    "                \n",
    "            # compute emission and state probabilities\n",
    "            emission_p = word_given_tag(words[key], tag)[0]/word_given_tag(words[key], tag)[1]\n",
    "            state_probability = emission_p * transition_p    \n",
    "            p.append(state_probability)\n",
    "            \n",
    "        pmax = max(p)\n",
    "        # getting state for which probability is maximum\n",
    "        state_max = T[p.index(pmax)] \n",
    "        state.append(state_max)\n",
    "    return list(zip(words, state))"
   ]
  },
  {
   "cell_type": "code",
   "execution_count": 24,
   "metadata": {},
   "outputs": [
    {
     "name": "stdout",
     "output_type": "stream",
     "text": [
      "196\n",
      "5036\n"
     ]
    }
   ],
   "source": [
    "# list of tagged words\n",
    "validation_run_base = [tup for sent in test_set for tup in sent]\n",
    "\n",
    "# list of untagged words\n",
    "validation_tagged_words = [tup[0] for sent in test_set for tup in sent]\n",
    "print(len(test_set))\n",
    "print(len(validation_tagged_words))"
   ]
  },
  {
   "cell_type": "code",
   "execution_count": 25,
   "metadata": {},
   "outputs": [],
   "source": [
    "import random\n",
    "random.seed(1234)\n",
    "\n",
    "# choose random 5 sents\n",
    "rndom = [random.randint(1,len(test_set)) for x in range(5)]\n"
   ]
  },
  {
   "cell_type": "code",
   "execution_count": 26,
   "metadata": {},
   "outputs": [
    {
     "data": {
      "text/plain": [
       "[[('Old', 'NOUN'),\n",
       "  ('Spaghetti', 'NOUN'),\n",
       "  ('Warehouse', 'NOUN'),\n",
       "  ('rose', 'VERB'),\n",
       "  ('1', 'NUM'),\n",
       "  ('to', 'PRT'),\n",
       "  ('16', 'NUM'),\n",
       "  ('1\\\\/8', 'NUM'),\n",
       "  ('.', '.')],\n",
       " [('But', 'CONJ'),\n",
       "  ('can', 'VERB'),\n",
       "  ('Mr.', 'NOUN'),\n",
       "  ('Hahn', 'NOUN'),\n",
       "  ('carry', 'VERB'),\n",
       "  ('it', 'PRON'),\n",
       "  ('off', 'ADP'),\n",
       "  ('?', '.')],\n",
       " [('From', 'ADP'),\n",
       "  ('January', 'NOUN'),\n",
       "  ('to', 'PRT'),\n",
       "  ('October', 'NOUN'),\n",
       "  (',', '.'),\n",
       "  ('the', 'DET'),\n",
       "  ('nation', 'NOUN'),\n",
       "  (\"'s\", 'PRT'),\n",
       "  ('accumulated', 'VERB'),\n",
       "  ('exports', 'NOUN'),\n",
       "  ('increased', 'VERB'),\n",
       "  ('4', 'NUM'),\n",
       "  ('%', 'NOUN'),\n",
       "  ('from', 'ADP'),\n",
       "  ('the', 'DET'),\n",
       "  ('same', 'ADJ'),\n",
       "  ('period', 'NOUN'),\n",
       "  ('last', 'ADJ'),\n",
       "  ('year', 'NOUN'),\n",
       "  ('to', 'PRT'),\n",
       "  ('$', '.'),\n",
       "  ('50.45', 'NUM'),\n",
       "  ('billion', 'NUM'),\n",
       "  ('*U*', 'X'),\n",
       "  ('.', '.')],\n",
       " [('``', '.'),\n",
       "  ('The', 'DET'),\n",
       "  ('agency', 'NOUN'),\n",
       "  ('publicly', 'ADV'),\n",
       "  ('and', 'CONJ'),\n",
       "  ('officially', 'ADV'),\n",
       "  ('declared', 'VERB'),\n",
       "  ('in', 'ADP'),\n",
       "  ('the', 'DET'),\n",
       "  ('lawsuit', 'NOUN'),\n",
       "  ('that', 'ADP'),\n",
       "  ('persons', 'NOUN'),\n",
       "  ('who', 'PRON'),\n",
       "  ('*T*-24', 'X'),\n",
       "  ('examine', 'VERB'),\n",
       "  ('the', 'DET'),\n",
       "  ('materials', 'NOUN'),\n",
       "  ('may', 'VERB'),\n",
       "  ('make', 'VERB'),\n",
       "  ('notes', 'NOUN'),\n",
       "  ('and', 'CONJ'),\n",
       "  (',', '.'),\n",
       "  ('while', 'ADP'),\n",
       "  ('the', 'DET'),\n",
       "  ('agency', 'NOUN'),\n",
       "  ('position', 'NOUN'),\n",
       "  ('is', 'VERB'),\n",
       "  ('that', 'ADP'),\n",
       "  ('persons', 'NOUN'),\n",
       "  ('may', 'VERB'),\n",
       "  ('not', 'ADV'),\n",
       "  ('take', 'VERB'),\n",
       "  ('verbatim', 'ADJ'),\n",
       "  ('notes', 'NOUN'),\n",
       "  (',', '.'),\n",
       "  ('no', 'DET'),\n",
       "  ('one', 'NOUN'),\n",
       "  ('will', 'VERB'),\n",
       "  ('check', 'VERB'),\n",
       "  ('*-3', 'X'),\n",
       "  ('to', 'PRT'),\n",
       "  ('determine', 'VERB'),\n",
       "  ('what', 'DET'),\n",
       "  ('notes', 'NOUN'),\n",
       "  ('a', 'DET'),\n",
       "  ('person', 'NOUN'),\n",
       "  ('has', 'VERB'),\n",
       "  ('taken', 'VERB'),\n",
       "  ('*T*-25', 'X'),\n",
       "  (',', '.'),\n",
       "  (\"''\", '.'),\n",
       "  ('Mr.', 'NOUN'),\n",
       "  ('McCormick', 'NOUN'),\n",
       "  ('reported', 'VERB'),\n",
       "  ('*T*-1', 'X'),\n",
       "  ('.', '.')],\n",
       " [('Foreigners', 'NOUN'),\n",
       "  ('complain', 'VERB'),\n",
       "  ('that', 'ADP'),\n",
       "  ('they', 'PRON'),\n",
       "  ('have', 'VERB'),\n",
       "  ('limited', 'ADJ'),\n",
       "  ('access', 'NOUN'),\n",
       "  ('to', 'PRT'),\n",
       "  ('government', 'NOUN'),\n",
       "  ('procurement', 'NOUN'),\n",
       "  ('in', 'ADP'),\n",
       "  ('Japan', 'NOUN'),\n",
       "  (',', '.'),\n",
       "  ('in', 'ADP'),\n",
       "  ('part', 'NOUN'),\n",
       "  ('because', 'ADP'),\n",
       "  ('Japanese', 'ADJ'),\n",
       "  ('companies', 'NOUN'),\n",
       "  ('unfairly', 'ADV'),\n",
       "  ('undercut', 'VERB'),\n",
       "  ('them', 'PRON'),\n",
       "  ('.', '.')]]"
      ]
     },
     "execution_count": 26,
     "metadata": {},
     "output_type": "execute_result"
    }
   ],
   "source": [
    "# list of sents\n",
    "test_run = [test_set[i] for i in rndom]\n",
    "\n",
    "# list of tagged words\n",
    "test_run_base = [tup for sent in test_run for tup in sent]\n",
    "\n",
    "# list of untagged words\n",
    "test_tagged_words = [tup[0] for sent in test_run for tup in sent]\n",
    "test_run"
   ]
  },
  {
   "cell_type": "code",
   "execution_count": 27,
   "metadata": {},
   "outputs": [],
   "source": [
    "start = time.time()\n",
    "tagged_seq = Viterbi(test_tagged_words)\n",
    "end = time.time()\n",
    "difference = end-start"
   ]
  },
  {
   "cell_type": "code",
   "execution_count": 28,
   "metadata": {},
   "outputs": [
    {
     "name": "stdout",
     "output_type": "stream",
     "text": [
      "Time taken in seconds:  20.71616506576538\n",
      "[('Old', 'NOUN'), ('Spaghetti', 'CONJ'), ('Warehouse', 'CONJ'), ('rose', 'VERB'), ('1', 'NUM'), ('to', 'PRT'), ('16', 'NUM'), ('1\\\\/8', 'NUM'), ('.', '.'), ('But', 'CONJ'), ('can', 'VERB'), ('Mr.', 'NOUN'), ('Hahn', 'NOUN'), ('carry', 'VERB'), ('it', 'PRON'), ('off', 'PRT'), ('?', '.'), ('From', 'ADP'), ('January', 'NOUN'), ('to', 'PRT'), ('October', 'NOUN'), (',', '.'), ('the', 'DET'), ('nation', 'NOUN'), (\"'s\", 'PRT'), ('accumulated', 'CONJ'), ('exports', 'NOUN'), ('increased', 'VERB'), ('4', 'NUM'), ('%', 'NOUN'), ('from', 'ADP'), ('the', 'DET'), ('same', 'ADJ'), ('period', 'NOUN'), ('last', 'ADJ'), ('year', 'NOUN'), ('to', 'PRT'), ('$', '.'), ('50.45', 'CONJ'), ('billion', 'NUM'), ('*U*', 'X'), ('.', '.'), ('``', '.'), ('The', 'DET'), ('agency', 'NOUN'), ('publicly', 'ADV'), ('and', 'CONJ'), ('officially', 'ADV'), ('declared', 'VERB'), ('in', 'ADP'), ('the', 'DET'), ('lawsuit', 'NOUN'), ('that', 'ADP'), ('persons', 'NOUN'), ('who', 'PRON'), ('*T*-24', 'X'), ('examine', 'CONJ'), ('the', 'DET'), ('materials', 'NOUN'), ('may', 'VERB'), ('make', 'VERB'), ('notes', 'NOUN'), ('and', 'CONJ'), (',', '.'), ('while', 'ADP'), ('the', 'DET'), ('agency', 'NOUN'), ('position', 'NOUN'), ('is', 'VERB'), ('that', 'ADP'), ('persons', 'NOUN'), ('may', 'VERB'), ('not', 'ADV'), ('take', 'VERB'), ('verbatim', 'CONJ'), ('notes', 'NOUN'), (',', '.'), ('no', 'DET'), ('one', 'NUM'), ('will', 'VERB'), ('check', 'VERB'), ('*-3', 'X'), ('to', 'PRT'), ('determine', 'VERB'), ('what', 'PRON'), ('notes', 'NOUN'), ('a', 'DET'), ('person', 'NOUN'), ('has', 'VERB'), ('taken', 'VERB'), ('*T*-25', 'X'), (',', '.'), (\"''\", '.'), ('Mr.', 'NOUN'), ('McCormick', 'NOUN'), ('reported', 'VERB'), ('*T*-1', 'X'), ('.', '.'), ('Foreigners', 'CONJ'), ('complain', 'CONJ'), ('that', 'DET'), ('they', 'PRON'), ('have', 'VERB'), ('limited', 'VERB'), ('access', 'NOUN'), ('to', 'PRT'), ('government', 'NOUN'), ('procurement', 'CONJ'), ('in', 'ADP'), ('Japan', 'NOUN'), (',', '.'), ('in', 'ADP'), ('part', 'NOUN'), ('because', 'ADP'), ('Japanese', 'ADJ'), ('companies', 'NOUN'), ('unfairly', 'ADV'), ('undercut', 'CONJ'), ('them', 'PRON'), ('.', '.')]\n"
     ]
    }
   ],
   "source": [
    "print(\"Time taken in seconds: \", difference)\n",
    "print(tagged_seq)"
   ]
  },
  {
   "cell_type": "code",
   "execution_count": 29,
   "metadata": {},
   "outputs": [
    {
     "name": "stdout",
     "output_type": "stream",
     "text": [
      "5036\n"
     ]
    }
   ],
   "source": [
    "print(len(validation_tagged_words))"
   ]
  },
  {
   "cell_type": "code",
   "execution_count": 30,
   "metadata": {},
   "outputs": [
    {
     "data": {
      "text/plain": [
       "0.875"
      ]
     },
     "execution_count": 30,
     "metadata": {},
     "output_type": "execute_result"
    }
   ],
   "source": [
    "# accuracy\n",
    "check = [i for i, j in zip(tagged_seq, test_run_base) if i == j] \n",
    "accuracy = len(check)/len(tagged_seq)\n",
    "accuracy"
   ]
  },
  {
   "cell_type": "code",
   "execution_count": 31,
   "metadata": {},
   "outputs": [],
   "source": [
    "incorrect_tagged_cases = [[test_run_base[i-1],j] for i, j in enumerate(zip(tagged_seq, test_run_base)) if j[0]!=j[1]]"
   ]
  },
  {
   "cell_type": "code",
   "execution_count": 32,
   "metadata": {},
   "outputs": [
    {
     "data": {
      "text/plain": [
       "[[('Old', 'NOUN'), (('Spaghetti', 'CONJ'), ('Spaghetti', 'NOUN'))],\n",
       " [('Spaghetti', 'NOUN'), (('Warehouse', 'CONJ'), ('Warehouse', 'NOUN'))],\n",
       " [('it', 'PRON'), (('off', 'PRT'), ('off', 'ADP'))],\n",
       " [(\"'s\", 'PRT'), (('accumulated', 'CONJ'), ('accumulated', 'VERB'))],\n",
       " [('$', '.'), (('50.45', 'CONJ'), ('50.45', 'NUM'))],\n",
       " [('*T*-24', 'X'), (('examine', 'CONJ'), ('examine', 'VERB'))],\n",
       " [('take', 'VERB'), (('verbatim', 'CONJ'), ('verbatim', 'ADJ'))],\n",
       " [('no', 'DET'), (('one', 'NUM'), ('one', 'NOUN'))],\n",
       " [('determine', 'VERB'), (('what', 'PRON'), ('what', 'DET'))],\n",
       " [('.', '.'), (('Foreigners', 'CONJ'), ('Foreigners', 'NOUN'))],\n",
       " [('Foreigners', 'NOUN'), (('complain', 'CONJ'), ('complain', 'VERB'))],\n",
       " [('complain', 'VERB'), (('that', 'DET'), ('that', 'ADP'))],\n",
       " [('have', 'VERB'), (('limited', 'VERB'), ('limited', 'ADJ'))],\n",
       " [('government', 'NOUN'), (('procurement', 'CONJ'), ('procurement', 'NOUN'))],\n",
       " [('unfairly', 'ADV'), (('undercut', 'CONJ'), ('undercut', 'VERB'))]]"
      ]
     },
     "execution_count": 32,
     "metadata": {},
     "output_type": "execute_result"
    }
   ],
   "source": [
    "incorrect_tagged_cases"
   ]
  },
  {
   "cell_type": "code",
   "execution_count": 33,
   "metadata": {},
   "outputs": [],
   "source": [
    "#Testing with test sample \n",
    "test_cases_shared = 'Android is a mobile operating system developed by Google. Android has been the best-selling OS worldwide on smartphones since 2011 and on tablets since 2013. Google and Twitter made a deal in 2015 that gave Google access to Twitter\\'s firehose. Twitter is an online news and social networking service on which users post and interact with messages known as tweets. Before entering politics, Donald Trump was a domineering businessman and a television personality. The 2018 FIFA World Cup is the 21st FIFA World Cup, an international football tournament contested once every four years. This is the first World Cup to be held in Eastern Europe and the 11th time that it has been held in Europe. Show me the cheapest round trips from Dallas to Atlanta. I would like to see flights from Denver to Philadelphia. Show me the price of the flights leaving Atlanta at about 3 in the afternoon and arriving in San Francisco. NASA invited social media users to experience the launch of ICESAT-2 Satellite.'\n",
    "test_words = word_tokenize(test_cases_shared)"
   ]
  },
  {
   "cell_type": "code",
   "execution_count": 34,
   "metadata": {},
   "outputs": [],
   "source": [
    "start = time.time()\n",
    "tagged_seq = Viterbi(test_words)\n",
    "end = time.time()\n",
    "difference = end-start"
   ]
  },
  {
   "cell_type": "code",
   "execution_count": 35,
   "metadata": {},
   "outputs": [
    {
     "name": "stdout",
     "output_type": "stream",
     "text": [
      "182\n",
      "827\n"
     ]
    }
   ],
   "source": [
    "# list of tagged words\n",
    "validation_run_test = [tup for sent in test_words for tup in sent]\n",
    "\n",
    "# list of untagged words\n",
    "validation_tagged_words1 = [tup[0] for sent in test_words for tup in sent]\n",
    "print(len(test_words))\n",
    "print(len(validation_tagged_words1))"
   ]
  },
  {
   "cell_type": "code",
   "execution_count": 36,
   "metadata": {
    "scrolled": true
   },
   "outputs": [
    {
     "name": "stdout",
     "output_type": "stream",
     "text": [
      "29.28235125541687\n",
      "182\n",
      "[('Android', 'CONJ'), ('is', 'VERB'), ('a', 'DET'), ('mobile', 'ADJ'), ('operating', 'NOUN'), ('system', 'NOUN'), ('developed', 'VERB'), ('by', 'ADP'), ('Google', 'CONJ'), ('.', '.'), ('Android', 'CONJ'), ('has', 'VERB'), ('been', 'VERB'), ('the', 'DET'), ('best-selling', 'CONJ'), ('OS', 'CONJ'), ('worldwide', 'CONJ'), ('on', 'ADP'), ('smartphones', 'CONJ'), ('since', 'ADP'), ('2011', 'CONJ'), ('and', 'CONJ'), ('on', 'ADP'), ('tablets', 'NOUN'), ('since', 'ADP'), ('2013', 'CONJ'), ('.', '.'), ('Google', 'CONJ'), ('and', 'CONJ'), ('Twitter', 'CONJ'), ('made', 'VERB'), ('a', 'DET'), ('deal', 'NOUN'), ('in', 'ADP'), ('2015', 'CONJ'), ('that', 'DET'), ('gave', 'VERB'), ('Google', 'CONJ'), ('access', 'NOUN'), ('to', 'PRT'), ('Twitter', 'CONJ'), (\"'s\", 'VERB'), ('firehose', 'CONJ'), ('.', '.'), ('Twitter', 'CONJ'), ('is', 'VERB'), ('an', 'DET'), ('online', 'CONJ'), ('news', 'NOUN'), ('and', 'CONJ'), ('social', 'ADJ'), ('networking', 'NOUN'), ('service', 'NOUN'), ('on', 'ADP'), ('which', 'DET'), ('users', 'NOUN'), ('post', 'NOUN'), ('and', 'CONJ'), ('interact', 'CONJ'), ('with', 'ADP'), ('messages', 'CONJ'), ('known', 'VERB'), ('as', 'ADP'), ('tweets', 'CONJ'), ('.', '.'), ('Before', 'ADP'), ('entering', 'VERB'), ('politics', 'NOUN'), (',', '.'), ('Donald', 'NOUN'), ('Trump', 'NOUN'), ('was', 'VERB'), ('a', 'DET'), ('domineering', 'CONJ'), ('businessman', 'NOUN'), ('and', 'CONJ'), ('a', 'DET'), ('television', 'NOUN'), ('personality', 'CONJ'), ('.', '.'), ('The', 'DET'), ('2018', 'CONJ'), ('FIFA', 'CONJ'), ('World', 'NOUN'), ('Cup', 'CONJ'), ('is', 'VERB'), ('the', 'DET'), ('21st', 'CONJ'), ('FIFA', 'CONJ'), ('World', 'NOUN'), ('Cup', 'CONJ'), (',', '.'), ('an', 'DET'), ('international', 'ADJ'), ('football', 'NOUN'), ('tournament', 'CONJ'), ('contested', 'CONJ'), ('once', 'ADV'), ('every', 'DET'), ('four', 'NUM'), ('years', 'NOUN'), ('.', '.'), ('This', 'DET'), ('is', 'VERB'), ('the', 'DET'), ('first', 'ADJ'), ('World', 'NOUN'), ('Cup', 'CONJ'), ('to', 'PRT'), ('be', 'VERB'), ('held', 'VERB'), ('in', 'ADP'), ('Eastern', 'NOUN'), ('Europe', 'NOUN'), ('and', 'CONJ'), ('the', 'DET'), ('11th', 'ADJ'), ('time', 'NOUN'), ('that', 'ADP'), ('it', 'PRON'), ('has', 'VERB'), ('been', 'VERB'), ('held', 'VERB'), ('in', 'ADP'), ('Europe', 'NOUN'), ('.', '.'), ('Show', 'NOUN'), ('me', 'PRON'), ('the', 'DET'), ('cheapest', 'ADJ'), ('round', 'NOUN'), ('trips', 'CONJ'), ('from', 'ADP'), ('Dallas', 'NOUN'), ('to', 'PRT'), ('Atlanta', 'NOUN'), ('.', '.'), ('I', 'PRON'), ('would', 'VERB'), ('like', 'ADP'), ('to', 'PRT'), ('see', 'VERB'), ('flights', 'NOUN'), ('from', 'ADP'), ('Denver', 'NOUN'), ('to', 'PRT'), ('Philadelphia', 'NOUN'), ('.', '.'), ('Show', 'NOUN'), ('me', 'PRON'), ('the', 'DET'), ('price', 'NOUN'), ('of', 'ADP'), ('the', 'DET'), ('flights', 'NOUN'), ('leaving', 'VERB'), ('Atlanta', 'NOUN'), ('at', 'ADP'), ('about', 'ADP'), ('3', 'NUM'), ('in', 'ADP'), ('the', 'DET'), ('afternoon', 'NOUN'), ('and', 'CONJ'), ('arriving', 'CONJ'), ('in', 'ADP'), ('San', 'NOUN'), ('Francisco', 'NOUN'), ('.', '.'), ('NASA', 'CONJ'), ('invited', 'CONJ'), ('social', 'ADJ'), ('media', 'NOUN'), ('users', 'NOUN'), ('to', 'PRT'), ('experience', 'NOUN'), ('the', 'DET'), ('launch', 'NOUN'), ('of', 'ADP'), ('ICESAT-2', 'CONJ'), ('Satellite', 'CONJ'), ('.', '.')]\n"
     ]
    }
   ],
   "source": [
    "print(difference)\n",
    "print(len(tagged_seq))\n",
    "print(tagged_seq)"
   ]
  },
  {
   "cell_type": "code",
   "execution_count": 37,
   "metadata": {},
   "outputs": [
    {
     "data": {
      "text/plain": [
       "11"
      ]
     },
     "execution_count": 37,
     "metadata": {},
     "output_type": "execute_result"
    }
   ],
   "source": [
    "tags = [pair[1] for pair in tagged_seq]\n",
    "unique_tags = set(tags)\n",
    "len(unique_tags)"
   ]
  },
  {
   "cell_type": "code",
   "execution_count": 38,
   "metadata": {},
   "outputs": [
    {
     "data": {
      "text/plain": [
       "Counter({'CONJ': 44,\n",
       "         'VERB': 21,\n",
       "         'DET': 20,\n",
       "         'ADJ': 7,\n",
       "         'NOUN': 42,\n",
       "         'ADP': 22,\n",
       "         '.': 13,\n",
       "         'PRT': 6,\n",
       "         'ADV': 1,\n",
       "         'NUM': 2,\n",
       "         'PRON': 4})"
      ]
     },
     "execution_count": 38,
     "metadata": {},
     "output_type": "execute_result"
    }
   ],
   "source": [
    "from collections import Counter\n",
    "tag_counts = Counter(tags)\n",
    "tag_counts"
   ]
  },
  {
   "cell_type": "markdown",
   "metadata": {},
   "source": [
    "Noun is the most common tag. Hence "
   ]
  },
  {
   "cell_type": "markdown",
   "metadata": {},
   "source": [
    "### Solve the problem of unknown words\n",
    "\n",
    "Modification 1"
   ]
  },
  {
   "cell_type": "code",
   "execution_count": 39,
   "metadata": {},
   "outputs": [],
   "source": [
    "#Replace all unknown words are by Noun (Noun being the most common tag) \n",
    "\n",
    "def Viterbi_Noun(test_words, train_bag = train_tagged_words):\n",
    "    tagged_seq = Viterbi(test_words)\n",
    "    V = list(set([pair[0] for pair in train_bag]))\n",
    "    words = [pair[0] for pair in tagged_seq]\n",
    "    Viterbi_tags = [pair[1] for pair in tagged_seq]\n",
    "    for key, word in enumerate(words):\n",
    "        if word not in V:\n",
    "            Viterbi_tags[key] = 'NOUN'\n",
    "            \n",
    "    \n",
    "    return list(zip(words, Viterbi_tags))"
   ]
  },
  {
   "cell_type": "code",
   "execution_count": 40,
   "metadata": {},
   "outputs": [],
   "source": [
    "#It takes more time beacuse of words length\n",
    "# start = time.time()\n",
    "# tagged_seq1_test = Viterbi_Noun(validation_tagged_words)\n",
    "# end = time.time()\n",
    "# difference = end-start"
   ]
  },
  {
   "cell_type": "code",
   "execution_count": 41,
   "metadata": {},
   "outputs": [],
   "source": [
    "start = time.time()\n",
    "tagged_seq2_test1 = Viterbi_Noun(test_words)\n",
    "end = time.time()\n",
    "difference = end-start"
   ]
  },
  {
   "cell_type": "code",
   "execution_count": 42,
   "metadata": {},
   "outputs": [
    {
     "data": {
      "text/plain": [
       "0.01098901098901099"
      ]
     },
     "execution_count": 42,
     "metadata": {},
     "output_type": "execute_result"
    }
   ],
   "source": [
    "check_mod = [i for i, j in zip(tagged_seq2_test1, validation_run_base) if i == j] \n",
    "accuracy = len(check_mod)/len(tagged_seq2_test1)\n",
    "accuracy"
   ]
  },
  {
   "cell_type": "markdown",
   "metadata": {},
   "source": [
    "Modification-2"
   ]
  },
  {
   "cell_type": "code",
   "execution_count": 43,
   "metadata": {},
   "outputs": [],
   "source": [
    "def Viterbi_Adj(test_words, train_bag = train_tagged_words):\n",
    "    tagged_seq = Viterbi(test_words)\n",
    "    V = list(set([pair[0] for pair in train_bag]))\n",
    "    \n",
    "    words = [pair[0] for pair in tagged_seq]\n",
    "    Viterbi_tags = [pair[1] for pair in tagged_seq]\n",
    "    \n",
    "    for key, word in enumerate(words):\n",
    "        if word not in V:\n",
    "            ## word ending with '-ous'\n",
    "            if word[-3:] == 'ous':\n",
    "                Viterbi_tags[key] = 'ADJ'\n",
    "                \n",
    "            ## first letter is capitalised:\n",
    "            elif word[0].upper() == word[0]:  #Eg: Google, Android\n",
    "                Viterbi_tags[key] = 'NOUN' \n",
    "                \n",
    "            else: \n",
    "                Viterbi_tags[key] = 'NOUN'\n",
    "    \n",
    "    return list(zip(words, Viterbi_tags))"
   ]
  },
  {
   "cell_type": "code",
   "execution_count": 44,
   "metadata": {},
   "outputs": [],
   "source": [
    "start = time.time()\n",
    "tagged_seq2_test2 = Viterbi_Adj(test_words)\n",
    "end = time.time()\n",
    "difference = end-start"
   ]
  },
  {
   "cell_type": "code",
   "execution_count": 45,
   "metadata": {},
   "outputs": [
    {
     "data": {
      "text/plain": [
       "0.01098901098901099"
      ]
     },
     "execution_count": 45,
     "metadata": {},
     "output_type": "execute_result"
    }
   ],
   "source": [
    "check_mod = [i for i, j in zip(tagged_seq2_test2, validation_run_base) if i == j] \n",
    "accuracy = len(check_mod)/len(tagged_seq2_test2)\n",
    "accuracy"
   ]
  },
  {
   "cell_type": "markdown",
   "metadata": {},
   "source": [
    "Lexicon (Unigram) Tagger¶\n",
    "Let's now try training a lexicon (or a unigram) tagger which assigns the most commonly assigned tag to a word.\n",
    "\n",
    "In NLTK, the UnigramTagger() can be used to train such a model."
   ]
  },
  {
   "cell_type": "code",
   "execution_count": 46,
   "metadata": {},
   "outputs": [
    {
     "name": "stdout",
     "output_type": "stream",
     "text": [
      "The accuracy of the Unigram Tagger is  0.9023034154090548\n"
     ]
    }
   ],
   "source": [
    "# Lexicon (or unigram tagger)\n",
    "unigram_tagger = nltk.UnigramTagger(train_set)\n",
    "unigram_tagger_accuracy = unigram_tagger.evaluate(test_set)\n",
    "print(\"The accuracy of the Unigram Tagger is \", unigram_tagger_accuracy)"
   ]
  },
  {
   "cell_type": "markdown",
   "metadata": {},
   "source": [
    "Rule-Based (Regular Expression) Tagger\n",
    "Now let's build a rule-based, or regular expression based tagger. In NLTK, the RegexpTagger() \n",
    "can be provided with handwritten regular expression patterns, as shown below."
   ]
  },
  {
   "cell_type": "code",
   "execution_count": 47,
   "metadata": {},
   "outputs": [],
   "source": [
    "patterns = [\n",
    "    (r'^[aA-zZ].*[0-9]+','NOUN'),  # Alpha Numeric\n",
    "    (r'.*ing$', 'VBG'),              # gerund\n",
    "    (r'.*ed$', 'VBD'),               # past tense\n",
    "    (r'.*es$', 'VBZ'),               # 3rd singular present\n",
    "    (r'.*ould$', 'MD'),              # modals\n",
    "    (r'.*\\'s$', 'NN$'),              # possessive nouns\n",
    "    (r'.*s$', 'NNS'),                # plural nouns\n",
    "    (r'^-?[0-9]+(.[0-9]+)?$', 'CD'), # cardinal numbers\n",
    "    (r'.*', 'NN'),                    # nouns\n",
    "    (r'.*ness$', 'NOUN'),\n",
    "    (r'.*\\'s$', 'NOUN'),              # possessive nouns\n",
    "    (r'.*s$', 'NOUN'),                # plural nouns\n",
    "    (r'.*', 'NOUN'),    \n",
    "    (r'.*ly$', 'ADV'),\n",
    "    (r'^(0|([*|-|$].*))','X'), # Any special character combination\n",
    "    (r'.*ould$', 'X'), # modals\n",
    "    (r'(The|the|A|a|An|an)$', 'DET'),\n",
    "    (r'^([0-9]|[aA-zZ])+\\-[aA-zZ]*$','ADJ'),\n",
    "    (r'.*able$', 'ADJ'), # adjective like 100-megabytes 237-Seats\n",
    "    (r'[aA-zZ]+(ed|ing|es)$', 'VERB'), # Any word ending with 'ing' or 'ed' is a verb\n",
    "    (r'[0-9].?[,\\/]?[0-9]*','NUM')# Numbers \n",
    "    ]"
   ]
  },
  {
   "cell_type": "code",
   "execution_count": 48,
   "metadata": {},
   "outputs": [],
   "source": [
    "regexp_tagger = nltk.RegexpTagger(patterns)\n",
    "# help(regexp_tagger)"
   ]
  },
  {
   "cell_type": "code",
   "execution_count": 49,
   "metadata": {},
   "outputs": [
    {
     "name": "stdout",
     "output_type": "stream",
     "text": [
      "The accuracy of the Unigram RegexpTagger = 0.9023034154090548\n"
     ]
    }
   ],
   "source": [
    "#Evaluating based on rule_based_unigram_tagger\n",
    "rule_based_tagger = nltk.RegexpTagger(patterns)\n",
    "\n",
    "# unigram tagger backed up by the rule-based tagger\n",
    "rule_based_unigram_tagger = nltk.UnigramTagger(train_set, backoff = rule_based_tagger)\n",
    "\n",
    "accuracy_rule_based_unigram_tagger = rule_based_unigram_tagger.evaluate(test_set)\n",
    "\n",
    "print(\"The accuracy of the Unigram RegexpTagger =\", accuracy_rule_based_unigram_tagger)"
   ]
  },
  {
   "cell_type": "markdown",
   "metadata": {},
   "source": [
    "#### Evaluating tagging accuracy"
   ]
  },
  {
   "cell_type": "markdown",
   "metadata": {},
   "source": [
    "Accurancy of Vertibi Algorithm = 0.88 \n",
    "\n",
    "Accuracy of Vertibi Modification = 0.0\n",
    "\n",
    "Accuracy of Lexicon unigram tagger = 0.90\n",
    "\n",
    "Accuracy of Rulebased RegexpTagger = 0.90"
   ]
  },
  {
   "cell_type": "markdown",
   "metadata": {},
   "source": [
    "### Compare the tagging accuracies of the modifications with the vanilla Viterbi algorithm"
   ]
  },
  {
   "cell_type": "markdown",
   "metadata": {},
   "source": [
    "In comparision Lexicon unigram tagger, Vertibi algorithm and RegexpTagger shows good accuracy."
   ]
  },
  {
   "cell_type": "markdown",
   "metadata": {},
   "source": [
    "Combining the taggers also results in 0.90 as accuracy"
   ]
  },
  {
   "cell_type": "code",
   "execution_count": 50,
   "metadata": {},
   "outputs": [
    {
     "data": {
      "text/plain": [
       "0.9023034154090548"
      ]
     },
     "execution_count": 50,
     "metadata": {},
     "output_type": "execute_result"
    }
   ],
   "source": [
    "# rule based tagger\n",
    "rule_based_tagger = nltk.RegexpTagger(patterns)\n",
    "\n",
    "# lexicon backed up by the rule-based tagger\n",
    "lexicon_tagger = nltk.UnigramTagger(train_set, backoff=rule_based_tagger)\n",
    "\n",
    "lexicon_tagger.evaluate(test_set)"
   ]
  },
  {
   "cell_type": "markdown",
   "metadata": {},
   "source": [
    "### List down cases which were incorrectly tagged by original POS tagger and got corrected by your modifications"
   ]
  },
  {
   "cell_type": "markdown",
   "metadata": {},
   "source": [
    "I've tried the modifications for the words ending with 'ous' should be tagged as ADJ and Upper case Words should\n",
    "be noun. Modifications are not having the significance improvement in the accurancy. Hence conculding the POS tagger\n",
    "are correctly tagged with the max accuracy of 90%."
   ]
  }
 ],
 "metadata": {
  "kernelspec": {
   "display_name": "Python 3",
   "language": "python",
   "name": "python3"
  },
  "language_info": {
   "codemirror_mode": {
    "name": "ipython",
    "version": 3
   },
   "file_extension": ".py",
   "mimetype": "text/x-python",
   "name": "python",
   "nbconvert_exporter": "python",
   "pygments_lexer": "ipython3",
   "version": "3.7.3"
  }
 },
 "nbformat": 4,
 "nbformat_minor": 2
}
